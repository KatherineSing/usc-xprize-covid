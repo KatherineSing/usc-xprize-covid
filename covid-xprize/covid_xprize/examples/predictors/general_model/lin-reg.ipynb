{
 "cells": [
  {
   "cell_type": "markdown",
   "metadata": {},
   "source": [
    "## Training"
   ]
  },
  {
   "cell_type": "code",
   "execution_count": 1,
   "metadata": {
    "scrolled": true
   },
   "outputs": [
    {
     "name": "stdout",
     "output_type": "stream",
     "text": [
      "Requirement already satisfied: mlxtend in c:\\users\\kaush\\onedrive\\desktop\\usc classes\\cs499\\usc-xprize-covid\\xprize\\lib\\site-packages (0.18.0)\n",
      "Requirement already satisfied: scikit-learn>=0.20.3 in c:\\users\\kaush\\onedrive\\desktop\\usc classes\\cs499\\usc-xprize-covid\\xprize\\lib\\site-packages (from mlxtend) (0.23.2)\n",
      "Requirement already satisfied: joblib>=0.13.2 in c:\\users\\kaush\\onedrive\\desktop\\usc classes\\cs499\\usc-xprize-covid\\xprize\\lib\\site-packages (from mlxtend) (1.0.0)\n",
      "Requirement already satisfied: pandas>=0.24.2 in c:\\users\\kaush\\onedrive\\desktop\\usc classes\\cs499\\usc-xprize-covid\\xprize\\lib\\site-packages (from mlxtend) (1.1.2)\n",
      "Requirement already satisfied: numpy>=1.16.2 in c:\\users\\kaush\\onedrive\\desktop\\usc classes\\cs499\\usc-xprize-covid\\xprize\\lib\\site-packages (from mlxtend) (1.18.5)\n",
      "Requirement already satisfied: setuptools in c:\\users\\kaush\\onedrive\\desktop\\usc classes\\cs499\\usc-xprize-covid\\xprize\\lib\\site-packages (from mlxtend) (41.2.0)\n",
      "Requirement already satisfied: matplotlib>=3.0.0 in c:\\users\\kaush\\onedrive\\desktop\\usc classes\\cs499\\usc-xprize-covid\\xprize\\lib\\site-packages (from mlxtend) (3.3.2)\n",
      "Requirement already satisfied: scipy>=1.2.1 in c:\\users\\kaush\\onedrive\\desktop\\usc classes\\cs499\\usc-xprize-covid\\xprize\\lib\\site-packages (from mlxtend) (1.5.2)\n",
      "Requirement already satisfied: threadpoolctl>=2.0.0 in c:\\users\\kaush\\onedrive\\desktop\\usc classes\\cs499\\usc-xprize-covid\\xprize\\lib\\site-packages (from scikit-learn>=0.20.3->mlxtend) (2.1.0)\n",
      "Requirement already satisfied: python-dateutil>=2.7.3 in c:\\users\\kaush\\onedrive\\desktop\\usc classes\\cs499\\usc-xprize-covid\\xprize\\lib\\site-packages (from pandas>=0.24.2->mlxtend) (2.8.1)\n",
      "Requirement already satisfied: pytz>=2017.2 in c:\\users\\kaush\\onedrive\\desktop\\usc classes\\cs499\\usc-xprize-covid\\xprize\\lib\\site-packages (from pandas>=0.24.2->mlxtend) (2020.4)\n",
      "Requirement already satisfied: cycler>=0.10 in c:\\users\\kaush\\onedrive\\desktop\\usc classes\\cs499\\usc-xprize-covid\\xprize\\lib\\site-packages (from matplotlib>=3.0.0->mlxtend) (0.10.0)\n",
      "Requirement already satisfied: pillow>=6.2.0 in c:\\users\\kaush\\onedrive\\desktop\\usc classes\\cs499\\usc-xprize-covid\\xprize\\lib\\site-packages (from matplotlib>=3.0.0->mlxtend) (8.0.1)\n",
      "Requirement already satisfied: certifi>=2020.06.20 in c:\\users\\kaush\\onedrive\\desktop\\usc classes\\cs499\\usc-xprize-covid\\xprize\\lib\\site-packages (from matplotlib>=3.0.0->mlxtend) (2020.12.5)\n",
      "Requirement already satisfied: pyparsing!=2.0.4,!=2.1.2,!=2.1.6,>=2.0.3 in c:\\users\\kaush\\onedrive\\desktop\\usc classes\\cs499\\usc-xprize-covid\\xprize\\lib\\site-packages (from matplotlib>=3.0.0->mlxtend) (2.4.7)\n",
      "Requirement already satisfied: kiwisolver>=1.0.1 in c:\\users\\kaush\\onedrive\\desktop\\usc classes\\cs499\\usc-xprize-covid\\xprize\\lib\\site-packages (from matplotlib>=3.0.0->mlxtend) (1.3.1)\n",
      "Requirement already satisfied: six>=1.5 in c:\\users\\kaush\\onedrive\\desktop\\usc classes\\cs499\\usc-xprize-covid\\xprize\\lib\\site-packages (from python-dateutil>=2.7.3->pandas>=0.24.2->mlxtend) (1.15.0)\n"
     ]
    },
    {
     "name": "stderr",
     "output_type": "stream",
     "text": [
      "WARNING: You are using pip version 19.2.3, however version 20.3.3 is available.\n",
      "You should consider upgrading via the 'python -m pip install --upgrade pip' command.\n"
     ]
    },
    {
     "name": "stdout",
     "output_type": "stream",
     "text": [
      "Requirement already satisfied: xgboost in c:\\users\\kaush\\onedrive\\desktop\\usc classes\\cs499\\usc-xprize-covid\\xprize\\lib\\site-packages (1.3.0.post0)\n",
      "Requirement already satisfied: scipy in c:\\users\\kaush\\onedrive\\desktop\\usc classes\\cs499\\usc-xprize-covid\\xprize\\lib\\site-packages (from xgboost) (1.5.2)\n",
      "Requirement already satisfied: numpy in c:\\users\\kaush\\onedrive\\desktop\\usc classes\\cs499\\usc-xprize-covid\\xprize\\lib\\site-packages (from xgboost) (1.18.5)\n"
     ]
    },
    {
     "name": "stderr",
     "output_type": "stream",
     "text": [
      "WARNING: You are using pip version 19.2.3, however version 20.3.3 is available.\n",
      "You should consider upgrading via the 'python -m pip install --upgrade pip' command.\n"
     ]
    }
   ],
   "source": [
    "import sys\n",
    "!pip install mlxtend\n",
    "!pip install xgboost"
   ]
  },
  {
   "cell_type": "code",
   "execution_count": 2,
   "metadata": {},
   "outputs": [],
   "source": [
    "import pickle\n",
    "import numpy as np\n",
    "import pandas as pd\n",
    "from sklearn.linear_model import LinearRegression, Lasso\n",
    "from sklearn.metrics import SCORERS\n",
    "from sklearn.svm import SVR, LinearSVR\n",
    "from sklearn.ensemble import GradientBoostingRegressor\n",
    "from sklearn.model_selection import train_test_split\n",
    "from sklearn.feature_selection import SelectFromModel\n",
    "from sklearn.preprocessing import normalize, PowerTransformer, power_transform, scale, StandardScaler\n",
    "from sklearn.pipeline import make_pipeline\n",
    "from sklearn.model_selection import GridSearchCV, RandomizedSearchCV\n",
    "from sklearn.neural_network import MLPRegressor\n",
    "import matplotlib.pyplot as plt\n",
    "from mlxtend.feature_selection import SequentialFeatureSelector as sfs\n",
    "from mlxtend.evaluate import PredefinedHoldoutSplit\n",
    "from xgboost import XGBRegressor\n",
    "from scipy.stats import uniform, randint"
   ]
  },
  {
   "cell_type": "markdown",
   "metadata": {},
   "source": [
    "### Process Data"
   ]
  },
  {
   "cell_type": "code",
   "execution_count": 3,
   "metadata": {},
   "outputs": [],
   "source": [
    "# Main source for the training data\n",
    "DATA_URL = 'https://raw.githubusercontent.com/OxCGRT/covid-policy-tracker/master/data/OxCGRT_latest.csv'\n",
    "# Local file\n",
    "OXFORD_DATA_FILE = 'data/OxCGRT_latest.csv'"
   ]
  },
  {
   "cell_type": "code",
   "execution_count": 4,
   "metadata": {},
   "outputs": [
    {
     "data": {
      "text/plain": [
       "('data/OxCGRT_latest.csv', <http.client.HTTPMessage at 0x273b5257280>)"
      ]
     },
     "execution_count": 4,
     "metadata": {},
     "output_type": "execute_result"
    }
   ],
   "source": [
    "import os\n",
    "import urllib.request\n",
    "if not os.path.exists('data'):\n",
    "    os.mkdir('data')\n",
    "urllib.request.urlretrieve(DATA_URL, OXFORD_DATA_FILE)"
   ]
  },
  {
   "cell_type": "code",
   "execution_count": 5,
   "metadata": {},
   "outputs": [],
   "source": [
    "# Load historical data from local file\n",
    "oxford_data = pd.read_csv(OXFORD_DATA_FILE, \n",
    "                 parse_dates=['Date'],\n",
    "                 encoding=\"ISO-8859-1\",\n",
    "                 dtype={\"RegionName\": str,\n",
    "                        \"RegionCode\": str},\n",
    "                 error_bad_lines=False)"
   ]
  },
  {
   "cell_type": "code",
   "execution_count": 6,
   "metadata": {
    "scrolled": true
   },
   "outputs": [
    {
     "data": {
      "text/plain": [
       "Index(['CountryName', 'CountryCode', 'RegionName', 'RegionCode',\n",
       "       'Jurisdiction', 'Date', 'C1_School closing', 'C1_Flag',\n",
       "       'C2_Workplace closing', 'C2_Flag', 'C3_Cancel public events', 'C3_Flag',\n",
       "       'C4_Restrictions on gatherings', 'C4_Flag', 'C5_Close public transport',\n",
       "       'C5_Flag', 'C6_Stay at home requirements', 'C6_Flag',\n",
       "       'C7_Restrictions on internal movement', 'C7_Flag',\n",
       "       'C8_International travel controls', 'E1_Income support', 'E1_Flag',\n",
       "       'E2_Debt/contract relief', 'E3_Fiscal measures',\n",
       "       'E4_International support', 'H1_Public information campaigns',\n",
       "       'H1_Flag', 'H2_Testing policy', 'H3_Contact tracing',\n",
       "       'H4_Emergency investment in healthcare', 'H5_Investment in vaccines',\n",
       "       'H6_Facial Coverings', 'H6_Flag', 'H7_Vaccination policy', 'H7_Flag',\n",
       "       'M1_Wildcard', 'ConfirmedCases', 'ConfirmedDeaths', 'StringencyIndex',\n",
       "       'StringencyIndexForDisplay', 'StringencyLegacyIndex',\n",
       "       'StringencyLegacyIndexForDisplay', 'GovernmentResponseIndex',\n",
       "       'GovernmentResponseIndexForDisplay', 'ContainmentHealthIndex',\n",
       "       'ContainmentHealthIndexForDisplay', 'EconomicSupportIndex',\n",
       "       'EconomicSupportIndexForDisplay'],\n",
       "      dtype='object')"
      ]
     },
     "execution_count": 6,
     "metadata": {},
     "output_type": "execute_result"
    }
   ],
   "source": [
    "oxford_data.columns"
   ]
  },
  {
   "cell_type": "code",
   "execution_count": 7,
   "metadata": {},
   "outputs": [],
   "source": [
    "def transform_data(data):\n",
    "#     pipe = make_pipeline(StandardScaler(with_std=False), PowerTransformer(standardize=True))\n",
    "    pipe = make_pipeline(StandardScaler(with_std=True))\n",
    "    if len(data.shape) == 1:\n",
    "        transformed_data = pipe.fit_transform(data.reshape(-1,1))\n",
    "        return (transformed_data, pipe)\n",
    "    transformed_data = pipe.fit_transform(data)\n",
    "    return (transformed_data, pipe)\n",
    "def apply_transform(pipe, data):\n",
    "    if len(data.shape) == 1:\n",
    "        return pipe.transform(data.reshape(-1,1))\n",
    "    return pipe.transform(data)\n",
    "def inverse_transform(pipe, data):\n",
    "    if len(data.shape) == 1:\n",
    "        return pipe.inverse_transform(data.reshape(-1,1))\n",
    "    return pipe.inverse_transform(data)"
   ]
  },
  {
   "cell_type": "markdown",
   "metadata": {},
   "source": [
    "# Load Census Data"
   ]
  },
  {
   "cell_type": "code",
   "execution_count": null,
   "metadata": {
    "scrolled": true
   },
   "outputs": [],
   "source": []
  },
  {
   "cell_type": "markdown",
   "metadata": {},
   "source": [
    "# Load LODES Data"
   ]
  },
  {
   "cell_type": "code",
   "execution_count": null,
   "metadata": {
    "scrolled": true
   },
   "outputs": [],
   "source": []
  },
  {
   "cell_type": "code",
   "execution_count": 8,
   "metadata": {},
   "outputs": [],
   "source": [
    "# For testing, restrict training data to that before a hypothetical predictor submission date\n",
    "SUBMISSION_DATE = np.datetime64(\"2020-11-30\")\n",
    "oxford_data = oxford_data[oxford_data.Date <= SUBMISSION_DATE]\n",
    "\n",
    "# Remove current day and previous day because data may be incomplete\n",
    "# oxford_data = oxford_data.groupby(\"GeoID\", as_index=False).apply(lambda x: x.iloc[:-2])"
   ]
  },
  {
   "cell_type": "code",
   "execution_count": 9,
   "metadata": {},
   "outputs": [
    {
     "name": "stderr",
     "output_type": "stream",
     "text": [
      "c:\\users\\kaush\\onedrive\\desktop\\usc classes\\cs499\\usc-xprize-covid\\xprize\\lib\\site-packages\\pandas\\core\\series.py:726: RuntimeWarning: divide by zero encountered in log\n",
      "  result = getattr(ufunc, method)(*inputs, **kwargs)\n",
      "c:\\users\\kaush\\onedrive\\desktop\\usc classes\\cs499\\usc-xprize-covid\\xprize\\lib\\site-packages\\pandas\\core\\series.py:726: RuntimeWarning: invalid value encountered in log\n",
      "  result = getattr(ufunc, method)(*inputs, **kwargs)\n",
      "<ipython-input-9-f3ead99fd4ea>:36: SettingWithCopyWarning: \n",
      "A value is trying to be set on a copy of a slice from a DataFrame.\n",
      "Try using .loc[row_indexer,col_indexer] = value instead\n",
      "\n",
      "See the caveats in the documentation: https://pandas.pydata.org/pandas-docs/stable/user_guide/indexing.html#returning-a-view-versus-a-copy\n",
      "  region_df[col] = region_df[col].ffill()\n"
     ]
    },
    {
     "data": {
      "text/html": [
       "<div>\n",
       "<style scoped>\n",
       "    .dataframe tbody tr th:only-of-type {\n",
       "        vertical-align: middle;\n",
       "    }\n",
       "\n",
       "    .dataframe tbody tr th {\n",
       "        vertical-align: top;\n",
       "    }\n",
       "\n",
       "    .dataframe thead th {\n",
       "        text-align: right;\n",
       "    }\n",
       "</style>\n",
       "<table border=\"1\" class=\"dataframe\">\n",
       "  <thead>\n",
       "    <tr style=\"text-align: right;\">\n",
       "      <th></th>\n",
       "      <th>CountryName</th>\n",
       "      <th>RegionName</th>\n",
       "      <th>Date</th>\n",
       "      <th>GeoID</th>\n",
       "      <th>C1_School closing</th>\n",
       "      <th>C2_Workplace closing</th>\n",
       "      <th>C3_Cancel public events</th>\n",
       "      <th>C4_Restrictions on gatherings</th>\n",
       "      <th>C5_Close public transport</th>\n",
       "      <th>C6_Stay at home requirements</th>\n",
       "      <th>...</th>\n",
       "      <th>E4_International support</th>\n",
       "      <th>H1_Public information campaigns</th>\n",
       "      <th>H2_Testing policy</th>\n",
       "      <th>H3_Contact tracing</th>\n",
       "      <th>H4_Emergency investment in healthcare</th>\n",
       "      <th>H5_Investment in vaccines</th>\n",
       "      <th>H6_Facial Coverings</th>\n",
       "      <th>H7_Vaccination policy</th>\n",
       "      <th>NewCases</th>\n",
       "      <th>7DMA</th>\n",
       "    </tr>\n",
       "  </thead>\n",
       "  <tbody>\n",
       "    <tr>\n",
       "      <th>0</th>\n",
       "      <td>Aruba</td>\n",
       "      <td>NaN</td>\n",
       "      <td>2020-01-01</td>\n",
       "      <td>Aruba__nan</td>\n",
       "      <td>0.0</td>\n",
       "      <td>0.0</td>\n",
       "      <td>0.0</td>\n",
       "      <td>0.0</td>\n",
       "      <td>0.0</td>\n",
       "      <td>0.0</td>\n",
       "      <td>...</td>\n",
       "      <td>0.0</td>\n",
       "      <td>0.0</td>\n",
       "      <td>0.0</td>\n",
       "      <td>0.0</td>\n",
       "      <td>0.0</td>\n",
       "      <td>0.0</td>\n",
       "      <td>0.0</td>\n",
       "      <td>0.0</td>\n",
       "      <td>0.0</td>\n",
       "      <td>0.0</td>\n",
       "    </tr>\n",
       "    <tr>\n",
       "      <th>1</th>\n",
       "      <td>Aruba</td>\n",
       "      <td>NaN</td>\n",
       "      <td>2020-01-02</td>\n",
       "      <td>Aruba__nan</td>\n",
       "      <td>0.0</td>\n",
       "      <td>0.0</td>\n",
       "      <td>0.0</td>\n",
       "      <td>0.0</td>\n",
       "      <td>0.0</td>\n",
       "      <td>0.0</td>\n",
       "      <td>...</td>\n",
       "      <td>0.0</td>\n",
       "      <td>0.0</td>\n",
       "      <td>0.0</td>\n",
       "      <td>0.0</td>\n",
       "      <td>0.0</td>\n",
       "      <td>0.0</td>\n",
       "      <td>0.0</td>\n",
       "      <td>0.0</td>\n",
       "      <td>0.0</td>\n",
       "      <td>0.0</td>\n",
       "    </tr>\n",
       "    <tr>\n",
       "      <th>2</th>\n",
       "      <td>Aruba</td>\n",
       "      <td>NaN</td>\n",
       "      <td>2020-01-03</td>\n",
       "      <td>Aruba__nan</td>\n",
       "      <td>0.0</td>\n",
       "      <td>0.0</td>\n",
       "      <td>0.0</td>\n",
       "      <td>0.0</td>\n",
       "      <td>0.0</td>\n",
       "      <td>0.0</td>\n",
       "      <td>...</td>\n",
       "      <td>0.0</td>\n",
       "      <td>0.0</td>\n",
       "      <td>0.0</td>\n",
       "      <td>0.0</td>\n",
       "      <td>0.0</td>\n",
       "      <td>0.0</td>\n",
       "      <td>0.0</td>\n",
       "      <td>0.0</td>\n",
       "      <td>0.0</td>\n",
       "      <td>0.0</td>\n",
       "    </tr>\n",
       "    <tr>\n",
       "      <th>3</th>\n",
       "      <td>Aruba</td>\n",
       "      <td>NaN</td>\n",
       "      <td>2020-01-04</td>\n",
       "      <td>Aruba__nan</td>\n",
       "      <td>0.0</td>\n",
       "      <td>0.0</td>\n",
       "      <td>0.0</td>\n",
       "      <td>0.0</td>\n",
       "      <td>0.0</td>\n",
       "      <td>0.0</td>\n",
       "      <td>...</td>\n",
       "      <td>0.0</td>\n",
       "      <td>0.0</td>\n",
       "      <td>0.0</td>\n",
       "      <td>0.0</td>\n",
       "      <td>0.0</td>\n",
       "      <td>0.0</td>\n",
       "      <td>0.0</td>\n",
       "      <td>0.0</td>\n",
       "      <td>0.0</td>\n",
       "      <td>0.0</td>\n",
       "    </tr>\n",
       "    <tr>\n",
       "      <th>4</th>\n",
       "      <td>Aruba</td>\n",
       "      <td>NaN</td>\n",
       "      <td>2020-01-05</td>\n",
       "      <td>Aruba__nan</td>\n",
       "      <td>0.0</td>\n",
       "      <td>0.0</td>\n",
       "      <td>0.0</td>\n",
       "      <td>0.0</td>\n",
       "      <td>0.0</td>\n",
       "      <td>0.0</td>\n",
       "      <td>...</td>\n",
       "      <td>0.0</td>\n",
       "      <td>0.0</td>\n",
       "      <td>0.0</td>\n",
       "      <td>0.0</td>\n",
       "      <td>0.0</td>\n",
       "      <td>0.0</td>\n",
       "      <td>0.0</td>\n",
       "      <td>0.0</td>\n",
       "      <td>0.0</td>\n",
       "      <td>0.0</td>\n",
       "    </tr>\n",
       "  </tbody>\n",
       "</table>\n",
       "<p>5 rows × 25 columns</p>\n",
       "</div>"
      ],
      "text/plain": [
       "  CountryName RegionName       Date       GeoID  C1_School closing  \\\n",
       "0       Aruba        NaN 2020-01-01  Aruba__nan                0.0   \n",
       "1       Aruba        NaN 2020-01-02  Aruba__nan                0.0   \n",
       "2       Aruba        NaN 2020-01-03  Aruba__nan                0.0   \n",
       "3       Aruba        NaN 2020-01-04  Aruba__nan                0.0   \n",
       "4       Aruba        NaN 2020-01-05  Aruba__nan                0.0   \n",
       "\n",
       "   C2_Workplace closing  C3_Cancel public events  \\\n",
       "0                   0.0                      0.0   \n",
       "1                   0.0                      0.0   \n",
       "2                   0.0                      0.0   \n",
       "3                   0.0                      0.0   \n",
       "4                   0.0                      0.0   \n",
       "\n",
       "   C4_Restrictions on gatherings  C5_Close public transport  \\\n",
       "0                            0.0                        0.0   \n",
       "1                            0.0                        0.0   \n",
       "2                            0.0                        0.0   \n",
       "3                            0.0                        0.0   \n",
       "4                            0.0                        0.0   \n",
       "\n",
       "   C6_Stay at home requirements  ...  E4_International support  \\\n",
       "0                           0.0  ...                       0.0   \n",
       "1                           0.0  ...                       0.0   \n",
       "2                           0.0  ...                       0.0   \n",
       "3                           0.0  ...                       0.0   \n",
       "4                           0.0  ...                       0.0   \n",
       "\n",
       "   H1_Public information campaigns  H2_Testing policy  H3_Contact tracing  \\\n",
       "0                              0.0                0.0                 0.0   \n",
       "1                              0.0                0.0                 0.0   \n",
       "2                              0.0                0.0                 0.0   \n",
       "3                              0.0                0.0                 0.0   \n",
       "4                              0.0                0.0                 0.0   \n",
       "\n",
       "   H4_Emergency investment in healthcare  H5_Investment in vaccines  \\\n",
       "0                                    0.0                        0.0   \n",
       "1                                    0.0                        0.0   \n",
       "2                                    0.0                        0.0   \n",
       "3                                    0.0                        0.0   \n",
       "4                                    0.0                        0.0   \n",
       "\n",
       "   H6_Facial Coverings  H7_Vaccination policy  NewCases  7DMA  \n",
       "0                  0.0                    0.0       0.0   0.0  \n",
       "1                  0.0                    0.0       0.0   0.0  \n",
       "2                  0.0                    0.0       0.0   0.0  \n",
       "3                  0.0                    0.0       0.0   0.0  \n",
       "4                  0.0                    0.0       0.0   0.0  \n",
       "\n",
       "[5 rows x 25 columns]"
      ]
     },
     "execution_count": 9,
     "metadata": {},
     "output_type": "execute_result"
    }
   ],
   "source": [
    "cols = oxford_data.columns\n",
    "for col in cols:\n",
    "    if 'Index' in col or 'Flag' in col or 'Wildcard' in col:\n",
    "        oxford_data.drop(columns=col, inplace=True)\n",
    "\n",
    "for idx, row in oxford_data[oxford_data['Date'] == '2020-01-01'].iterrows():\n",
    "    for elem in row[6:].items():\n",
    "        if (elem[1] == 0.0):\n",
    "            continue\n",
    "        if (np.isnan(elem[1])):\n",
    "            oxford_data.loc[idx, elem[0]] = 0\n",
    "        \n",
    "oxford_data['GeoID'] = oxford_data['CountryName'] + '__' + oxford_data['RegionName'].astype(str)\n",
    "oxford_data['ConfirmedCases'].fillna(0, inplace=True)\n",
    "oxford_data['ConfirmedDeaths'].fillna(0, inplace=True)\n",
    "oxford_data['E3_Fiscal measures'].fillna(0, inplace=True)\n",
    "oxford_data['E4_International support'].fillna(0, inplace=True)\n",
    "oxford_data['H4_Emergency investment in healthcare'].fillna(0, inplace=True)\n",
    "oxford_data['H5_Investment in vaccines'].fillna(0, inplace=True)\n",
    "\n",
    "def log_data(series):\n",
    "    df = np.log(series)\n",
    "    df.replace(-np.inf, 0, inplace=True)\n",
    "    return df\n",
    "# Transform non categorical features by taking the natural log\n",
    "oxford_data['E3_Fiscal measures'] = log_data(oxford_data['E3_Fiscal measures'])\n",
    "oxford_data['E4_International support'] = log_data(oxford_data['E4_International support'])\n",
    "oxford_data['H4_Emergency investment in healthcare'] = log_data(oxford_data['H4_Emergency investment in healthcare'])\n",
    "oxford_data['H5_Investment in vaccines'] = log_data(oxford_data['H5_Investment in vaccines'])\n",
    "\n",
    "new_oxford = []\n",
    "# Forward fill for each specific region to handle nan for categorical features\n",
    "for geoid in oxford_data['GeoID'].unique():\n",
    "    region_df = oxford_data[oxford_data['GeoID'] == geoid]\n",
    "    for col in region_df.columns[4:].values:\n",
    "        region_df[col] = region_df[col].ffill()\n",
    "    new_oxford.append(region_df)\n",
    "oxford_data = pd.concat(new_oxford)\n",
    "\n",
    "oxford_data['NewCases'] = oxford_data.groupby('GeoID').ConfirmedCases.diff().fillna(0)\n",
    "oxford_data['NewDeaths'] = oxford_data.groupby('GeoID').ConfirmedDeaths.diff().fillna(0)\n",
    "oxford_data.drop(columns=['Jurisdiction', 'RegionCode'], inplace=True)\n",
    "oxford_data.drop(columns=['CountryCode'], inplace=True)\n",
    "# Compute the 7 day moving average\n",
    "oxford_data[\"7DMA\"] = oxford_data.groupby(\n",
    "    \"GeoID\")['NewCases'].rolling(7, center=False).mean().reset_index(0, drop=True)\n",
    "oxford_data[\"7DMA\"]= oxford_data[\"7DMA\"].fillna(oxford_data.loc[0,'NewCases'])\n",
    "\n",
    "\n",
    "# move column to be earlier\n",
    "geoid = oxford_data['GeoID']\n",
    "oxford_data.drop(labels=['GeoID'], axis = 1, inplace = True)\n",
    "oxford_data.insert(3, 'GeoID', geoid)\n",
    "\n",
    "oxford_data.drop(columns=['ConfirmedCases', 'ConfirmedDeaths', 'NewDeaths'], inplace=True)\n",
    "oxford_data.head()"
   ]
  },
  {
   "cell_type": "code",
   "execution_count": 10,
   "metadata": {},
   "outputs": [],
   "source": [
    "# # Load model\n",
    "# with open('data/cases_pipe.pkl', 'rb') as cases_file:\n",
    "#     p = pickle.load(cases_file)\n",
    "# apply_transform(p, np.array([[100]]))"
   ]
  },
  {
   "cell_type": "code",
   "execution_count": 11,
   "metadata": {},
   "outputs": [],
   "source": [
    "# Keep only columns of interest\n",
    "id_cols = ['CountryName',\n",
    "           'RegionName',\n",
    "           'GeoID',\n",
    "           'Date']\n",
    "cases_col = ['NewCases', '7DMA']\n",
    "npi_cols_categorical = ['C1_School closing',\n",
    "            'C2_Workplace closing',\n",
    "            'C3_Cancel public events',\n",
    "            'C4_Restrictions on gatherings',\n",
    "            'C5_Close public transport',\n",
    "            'C6_Stay at home requirements',\n",
    "            'C7_Restrictions on internal movement',\n",
    "            'C8_International travel controls',\n",
    "            'H1_Public information campaigns',\n",
    "            'H2_Testing policy',\n",
    "            'H3_Contact tracing',\n",
    "            'H6_Facial Coverings']"
   ]
  },
  {
   "cell_type": "code",
   "execution_count": 12,
   "metadata": {},
   "outputs": [
    {
     "data": {
      "text/plain": [
       "['C1_School closing_0.0',\n",
       " 'C1_School closing_1.0',\n",
       " 'C1_School closing_2.0',\n",
       " 'C1_School closing_3.0',\n",
       " 'C2_Workplace closing_0.0',\n",
       " 'C2_Workplace closing_1.0',\n",
       " 'C2_Workplace closing_2.0',\n",
       " 'C2_Workplace closing_3.0',\n",
       " 'C3_Cancel public events_0.0',\n",
       " 'C3_Cancel public events_1.0',\n",
       " 'C3_Cancel public events_2.0',\n",
       " 'C4_Restrictions on gatherings_0.0',\n",
       " 'C4_Restrictions on gatherings_1.0',\n",
       " 'C4_Restrictions on gatherings_2.0',\n",
       " 'C4_Restrictions on gatherings_3.0',\n",
       " 'C4_Restrictions on gatherings_4.0',\n",
       " 'C5_Close public transport_0.0',\n",
       " 'C5_Close public transport_1.0',\n",
       " 'C5_Close public transport_2.0',\n",
       " 'C6_Stay at home requirements_0.0',\n",
       " 'C6_Stay at home requirements_1.0',\n",
       " 'C6_Stay at home requirements_2.0',\n",
       " 'C6_Stay at home requirements_3.0',\n",
       " 'C7_Restrictions on internal movement_0.0',\n",
       " 'C7_Restrictions on internal movement_1.0',\n",
       " 'C7_Restrictions on internal movement_2.0',\n",
       " 'C8_International travel controls_0.0',\n",
       " 'C8_International travel controls_1.0',\n",
       " 'C8_International travel controls_2.0',\n",
       " 'C8_International travel controls_3.0',\n",
       " 'C8_International travel controls_4.0',\n",
       " 'H1_Public information campaigns_0.0',\n",
       " 'H1_Public information campaigns_1.0',\n",
       " 'H1_Public information campaigns_2.0',\n",
       " 'H2_Testing policy_0.0',\n",
       " 'H2_Testing policy_1.0',\n",
       " 'H2_Testing policy_2.0',\n",
       " 'H2_Testing policy_3.0',\n",
       " 'H3_Contact tracing_0.0',\n",
       " 'H3_Contact tracing_1.0',\n",
       " 'H3_Contact tracing_2.0',\n",
       " 'H6_Facial Coverings_0.0',\n",
       " 'H6_Facial Coverings_1.0',\n",
       " 'H6_Facial Coverings_2.0',\n",
       " 'H6_Facial Coverings_3.0',\n",
       " 'H6_Facial Coverings_4.0']"
      ]
     },
     "execution_count": 12,
     "metadata": {},
     "output_type": "execute_result"
    }
   ],
   "source": [
    "npi_cols = []\n",
    "\n",
    "for col in npi_cols_categorical:\n",
    "  one_hot = pd.get_dummies(oxford_data[col],prefix=col)\n",
    "  for new_col in one_hot.columns.values:\n",
    "    npi_cols.append(new_col)\n",
    "  oxford_data = oxford_data.drop(col, axis=1)\n",
    "  oxford_data = oxford_data.join(one_hot)\n",
    "npi_cols"
   ]
  },
  {
   "cell_type": "code",
   "execution_count": 13,
   "metadata": {},
   "outputs": [
    {
     "data": {
      "text/html": [
       "<div>\n",
       "<style scoped>\n",
       "    .dataframe tbody tr th:only-of-type {\n",
       "        vertical-align: middle;\n",
       "    }\n",
       "\n",
       "    .dataframe tbody tr th {\n",
       "        vertical-align: top;\n",
       "    }\n",
       "\n",
       "    .dataframe thead th {\n",
       "        text-align: right;\n",
       "    }\n",
       "</style>\n",
       "<table border=\"1\" class=\"dataframe\">\n",
       "  <thead>\n",
       "    <tr style=\"text-align: right;\">\n",
       "      <th></th>\n",
       "      <th>Date</th>\n",
       "      <th>CountryName</th>\n",
       "      <th>RegionName</th>\n",
       "      <th>GeoID</th>\n",
       "      <th>C1_School closing_0.0</th>\n",
       "      <th>C1_School closing_1.0</th>\n",
       "      <th>C1_School closing_2.0</th>\n",
       "      <th>C1_School closing_3.0</th>\n",
       "      <th>C2_Workplace closing_0.0</th>\n",
       "      <th>C2_Workplace closing_1.0</th>\n",
       "      <th>...</th>\n",
       "      <th>H3_Contact tracing_0.0</th>\n",
       "      <th>H3_Contact tracing_1.0</th>\n",
       "      <th>H3_Contact tracing_2.0</th>\n",
       "      <th>H6_Facial Coverings_0.0</th>\n",
       "      <th>H6_Facial Coverings_1.0</th>\n",
       "      <th>H6_Facial Coverings_2.0</th>\n",
       "      <th>H6_Facial Coverings_3.0</th>\n",
       "      <th>H6_Facial Coverings_4.0</th>\n",
       "      <th>NewCases</th>\n",
       "      <th>7DMA</th>\n",
       "    </tr>\n",
       "  </thead>\n",
       "  <tbody>\n",
       "    <tr>\n",
       "      <th>0</th>\n",
       "      <td>2020-01-01</td>\n",
       "      <td>Afghanistan</td>\n",
       "      <td>NaN</td>\n",
       "      <td>Afghanistan__nan</td>\n",
       "      <td>1</td>\n",
       "      <td>0</td>\n",
       "      <td>0</td>\n",
       "      <td>0</td>\n",
       "      <td>1</td>\n",
       "      <td>0</td>\n",
       "      <td>...</td>\n",
       "      <td>1</td>\n",
       "      <td>0</td>\n",
       "      <td>0</td>\n",
       "      <td>1</td>\n",
       "      <td>0</td>\n",
       "      <td>0</td>\n",
       "      <td>0</td>\n",
       "      <td>0</td>\n",
       "      <td>0.0</td>\n",
       "      <td>0.000000</td>\n",
       "    </tr>\n",
       "    <tr>\n",
       "      <th>1</th>\n",
       "      <td>2020-01-01</td>\n",
       "      <td>Albania</td>\n",
       "      <td>NaN</td>\n",
       "      <td>Albania__nan</td>\n",
       "      <td>1</td>\n",
       "      <td>0</td>\n",
       "      <td>0</td>\n",
       "      <td>0</td>\n",
       "      <td>1</td>\n",
       "      <td>0</td>\n",
       "      <td>...</td>\n",
       "      <td>1</td>\n",
       "      <td>0</td>\n",
       "      <td>0</td>\n",
       "      <td>1</td>\n",
       "      <td>0</td>\n",
       "      <td>0</td>\n",
       "      <td>0</td>\n",
       "      <td>0</td>\n",
       "      <td>0.0</td>\n",
       "      <td>0.000000</td>\n",
       "    </tr>\n",
       "    <tr>\n",
       "      <th>2</th>\n",
       "      <td>2020-01-01</td>\n",
       "      <td>Algeria</td>\n",
       "      <td>NaN</td>\n",
       "      <td>Algeria__nan</td>\n",
       "      <td>1</td>\n",
       "      <td>0</td>\n",
       "      <td>0</td>\n",
       "      <td>0</td>\n",
       "      <td>1</td>\n",
       "      <td>0</td>\n",
       "      <td>...</td>\n",
       "      <td>1</td>\n",
       "      <td>0</td>\n",
       "      <td>0</td>\n",
       "      <td>1</td>\n",
       "      <td>0</td>\n",
       "      <td>0</td>\n",
       "      <td>0</td>\n",
       "      <td>0</td>\n",
       "      <td>0.0</td>\n",
       "      <td>0.000000</td>\n",
       "    </tr>\n",
       "    <tr>\n",
       "      <th>3</th>\n",
       "      <td>2020-01-01</td>\n",
       "      <td>Andorra</td>\n",
       "      <td>NaN</td>\n",
       "      <td>Andorra__nan</td>\n",
       "      <td>1</td>\n",
       "      <td>0</td>\n",
       "      <td>0</td>\n",
       "      <td>0</td>\n",
       "      <td>1</td>\n",
       "      <td>0</td>\n",
       "      <td>...</td>\n",
       "      <td>1</td>\n",
       "      <td>0</td>\n",
       "      <td>0</td>\n",
       "      <td>1</td>\n",
       "      <td>0</td>\n",
       "      <td>0</td>\n",
       "      <td>0</td>\n",
       "      <td>0</td>\n",
       "      <td>0.0</td>\n",
       "      <td>0.000000</td>\n",
       "    </tr>\n",
       "    <tr>\n",
       "      <th>4</th>\n",
       "      <td>2020-01-01</td>\n",
       "      <td>Angola</td>\n",
       "      <td>NaN</td>\n",
       "      <td>Angola__nan</td>\n",
       "      <td>1</td>\n",
       "      <td>0</td>\n",
       "      <td>0</td>\n",
       "      <td>0</td>\n",
       "      <td>1</td>\n",
       "      <td>0</td>\n",
       "      <td>...</td>\n",
       "      <td>1</td>\n",
       "      <td>0</td>\n",
       "      <td>0</td>\n",
       "      <td>1</td>\n",
       "      <td>0</td>\n",
       "      <td>0</td>\n",
       "      <td>0</td>\n",
       "      <td>0</td>\n",
       "      <td>0.0</td>\n",
       "      <td>0.000000</td>\n",
       "    </tr>\n",
       "    <tr>\n",
       "      <th>...</th>\n",
       "      <td>...</td>\n",
       "      <td>...</td>\n",
       "      <td>...</td>\n",
       "      <td>...</td>\n",
       "      <td>...</td>\n",
       "      <td>...</td>\n",
       "      <td>...</td>\n",
       "      <td>...</td>\n",
       "      <td>...</td>\n",
       "      <td>...</td>\n",
       "      <td>...</td>\n",
       "      <td>...</td>\n",
       "      <td>...</td>\n",
       "      <td>...</td>\n",
       "      <td>...</td>\n",
       "      <td>...</td>\n",
       "      <td>...</td>\n",
       "      <td>...</td>\n",
       "      <td>...</td>\n",
       "      <td>...</td>\n",
       "      <td>...</td>\n",
       "    </tr>\n",
       "    <tr>\n",
       "      <th>93795</th>\n",
       "      <td>2020-11-30</td>\n",
       "      <td>Venezuela</td>\n",
       "      <td>NaN</td>\n",
       "      <td>Venezuela__nan</td>\n",
       "      <td>0</td>\n",
       "      <td>0</td>\n",
       "      <td>0</td>\n",
       "      <td>1</td>\n",
       "      <td>0</td>\n",
       "      <td>0</td>\n",
       "      <td>...</td>\n",
       "      <td>1</td>\n",
       "      <td>0</td>\n",
       "      <td>0</td>\n",
       "      <td>0</td>\n",
       "      <td>0</td>\n",
       "      <td>0</td>\n",
       "      <td>0</td>\n",
       "      <td>1</td>\n",
       "      <td>354.0</td>\n",
       "      <td>321.571429</td>\n",
       "    </tr>\n",
       "    <tr>\n",
       "      <th>93796</th>\n",
       "      <td>2020-11-30</td>\n",
       "      <td>Vietnam</td>\n",
       "      <td>NaN</td>\n",
       "      <td>Vietnam__nan</td>\n",
       "      <td>0</td>\n",
       "      <td>1</td>\n",
       "      <td>0</td>\n",
       "      <td>0</td>\n",
       "      <td>0</td>\n",
       "      <td>0</td>\n",
       "      <td>...</td>\n",
       "      <td>0</td>\n",
       "      <td>0</td>\n",
       "      <td>1</td>\n",
       "      <td>0</td>\n",
       "      <td>0</td>\n",
       "      <td>0</td>\n",
       "      <td>1</td>\n",
       "      <td>0</td>\n",
       "      <td>4.0</td>\n",
       "      <td>5.000000</td>\n",
       "    </tr>\n",
       "    <tr>\n",
       "      <th>93797</th>\n",
       "      <td>2020-11-30</td>\n",
       "      <td>Yemen</td>\n",
       "      <td>NaN</td>\n",
       "      <td>Yemen__nan</td>\n",
       "      <td>1</td>\n",
       "      <td>0</td>\n",
       "      <td>0</td>\n",
       "      <td>0</td>\n",
       "      <td>1</td>\n",
       "      <td>0</td>\n",
       "      <td>...</td>\n",
       "      <td>0</td>\n",
       "      <td>1</td>\n",
       "      <td>0</td>\n",
       "      <td>0</td>\n",
       "      <td>1</td>\n",
       "      <td>0</td>\n",
       "      <td>0</td>\n",
       "      <td>0</td>\n",
       "      <td>14.0</td>\n",
       "      <td>12.000000</td>\n",
       "    </tr>\n",
       "    <tr>\n",
       "      <th>93798</th>\n",
       "      <td>2020-11-30</td>\n",
       "      <td>Zambia</td>\n",
       "      <td>NaN</td>\n",
       "      <td>Zambia__nan</td>\n",
       "      <td>0</td>\n",
       "      <td>1</td>\n",
       "      <td>0</td>\n",
       "      <td>0</td>\n",
       "      <td>0</td>\n",
       "      <td>0</td>\n",
       "      <td>...</td>\n",
       "      <td>0</td>\n",
       "      <td>0</td>\n",
       "      <td>1</td>\n",
       "      <td>0</td>\n",
       "      <td>0</td>\n",
       "      <td>0</td>\n",
       "      <td>1</td>\n",
       "      <td>0</td>\n",
       "      <td>39.0</td>\n",
       "      <td>27.571429</td>\n",
       "    </tr>\n",
       "    <tr>\n",
       "      <th>93799</th>\n",
       "      <td>2020-11-30</td>\n",
       "      <td>Zimbabwe</td>\n",
       "      <td>NaN</td>\n",
       "      <td>Zimbabwe__nan</td>\n",
       "      <td>0</td>\n",
       "      <td>1</td>\n",
       "      <td>0</td>\n",
       "      <td>0</td>\n",
       "      <td>0</td>\n",
       "      <td>1</td>\n",
       "      <td>...</td>\n",
       "      <td>0</td>\n",
       "      <td>1</td>\n",
       "      <td>0</td>\n",
       "      <td>0</td>\n",
       "      <td>0</td>\n",
       "      <td>0</td>\n",
       "      <td>1</td>\n",
       "      <td>0</td>\n",
       "      <td>128.0</td>\n",
       "      <td>91.714286</td>\n",
       "    </tr>\n",
       "  </tbody>\n",
       "</table>\n",
       "<p>93800 rows × 52 columns</p>\n",
       "</div>"
      ],
      "text/plain": [
       "            Date  CountryName RegionName             GeoID  \\\n",
       "0     2020-01-01  Afghanistan        NaN  Afghanistan__nan   \n",
       "1     2020-01-01      Albania        NaN      Albania__nan   \n",
       "2     2020-01-01      Algeria        NaN      Algeria__nan   \n",
       "3     2020-01-01      Andorra        NaN      Andorra__nan   \n",
       "4     2020-01-01       Angola        NaN       Angola__nan   \n",
       "...          ...          ...        ...               ...   \n",
       "93795 2020-11-30    Venezuela        NaN    Venezuela__nan   \n",
       "93796 2020-11-30      Vietnam        NaN      Vietnam__nan   \n",
       "93797 2020-11-30        Yemen        NaN        Yemen__nan   \n",
       "93798 2020-11-30       Zambia        NaN       Zambia__nan   \n",
       "93799 2020-11-30     Zimbabwe        NaN     Zimbabwe__nan   \n",
       "\n",
       "       C1_School closing_0.0  C1_School closing_1.0  C1_School closing_2.0  \\\n",
       "0                          1                      0                      0   \n",
       "1                          1                      0                      0   \n",
       "2                          1                      0                      0   \n",
       "3                          1                      0                      0   \n",
       "4                          1                      0                      0   \n",
       "...                      ...                    ...                    ...   \n",
       "93795                      0                      0                      0   \n",
       "93796                      0                      1                      0   \n",
       "93797                      1                      0                      0   \n",
       "93798                      0                      1                      0   \n",
       "93799                      0                      1                      0   \n",
       "\n",
       "       C1_School closing_3.0  C2_Workplace closing_0.0  \\\n",
       "0                          0                         1   \n",
       "1                          0                         1   \n",
       "2                          0                         1   \n",
       "3                          0                         1   \n",
       "4                          0                         1   \n",
       "...                      ...                       ...   \n",
       "93795                      1                         0   \n",
       "93796                      0                         0   \n",
       "93797                      0                         1   \n",
       "93798                      0                         0   \n",
       "93799                      0                         0   \n",
       "\n",
       "       C2_Workplace closing_1.0  ...  H3_Contact tracing_0.0  \\\n",
       "0                             0  ...                       1   \n",
       "1                             0  ...                       1   \n",
       "2                             0  ...                       1   \n",
       "3                             0  ...                       1   \n",
       "4                             0  ...                       1   \n",
       "...                         ...  ...                     ...   \n",
       "93795                         0  ...                       1   \n",
       "93796                         0  ...                       0   \n",
       "93797                         0  ...                       0   \n",
       "93798                         0  ...                       0   \n",
       "93799                         1  ...                       0   \n",
       "\n",
       "       H3_Contact tracing_1.0  H3_Contact tracing_2.0  \\\n",
       "0                           0                       0   \n",
       "1                           0                       0   \n",
       "2                           0                       0   \n",
       "3                           0                       0   \n",
       "4                           0                       0   \n",
       "...                       ...                     ...   \n",
       "93795                       0                       0   \n",
       "93796                       0                       1   \n",
       "93797                       1                       0   \n",
       "93798                       0                       1   \n",
       "93799                       1                       0   \n",
       "\n",
       "       H6_Facial Coverings_0.0  H6_Facial Coverings_1.0  \\\n",
       "0                            1                        0   \n",
       "1                            1                        0   \n",
       "2                            1                        0   \n",
       "3                            1                        0   \n",
       "4                            1                        0   \n",
       "...                        ...                      ...   \n",
       "93795                        0                        0   \n",
       "93796                        0                        0   \n",
       "93797                        0                        1   \n",
       "93798                        0                        0   \n",
       "93799                        0                        0   \n",
       "\n",
       "       H6_Facial Coverings_2.0  H6_Facial Coverings_3.0  \\\n",
       "0                            0                        0   \n",
       "1                            0                        0   \n",
       "2                            0                        0   \n",
       "3                            0                        0   \n",
       "4                            0                        0   \n",
       "...                        ...                      ...   \n",
       "93795                        0                        0   \n",
       "93796                        0                        1   \n",
       "93797                        0                        0   \n",
       "93798                        0                        1   \n",
       "93799                        0                        1   \n",
       "\n",
       "       H6_Facial Coverings_4.0  NewCases        7DMA  \n",
       "0                            0       0.0    0.000000  \n",
       "1                            0       0.0    0.000000  \n",
       "2                            0       0.0    0.000000  \n",
       "3                            0       0.0    0.000000  \n",
       "4                            0       0.0    0.000000  \n",
       "...                        ...       ...         ...  \n",
       "93795                        1     354.0  321.571429  \n",
       "93796                        0       4.0    5.000000  \n",
       "93797                        0      14.0   12.000000  \n",
       "93798                        0      39.0   27.571429  \n",
       "93799                        0     128.0   91.714286  \n",
       "\n",
       "[93800 rows x 52 columns]"
      ]
     },
     "execution_count": 13,
     "metadata": {},
     "output_type": "execute_result"
    }
   ],
   "source": [
    "oxford_data = oxford_data[id_cols + npi_cols + cases_col]\n",
    "\n",
    "oxford_data = oxford_data.sort_values(by=['Date', 'GeoID'])\n",
    "# Move columns around\n",
    "date_col = oxford_data.pop('Date')\n",
    "oxford_data.insert(0, 'Date', date_col)\n",
    "# cases_col = oxford_data.pop('NewCases')\n",
    "# oxford_data.insert(4, 'NewCases', cases_col)\n",
    "\n",
    "oxford_data = oxford_data.reset_index(drop=True)\n",
    "oxford_data\n",
    "\n",
    "# california_df = oxford_data[oxford_data['RegionName'] == 'California']\n",
    "# plt.bar(california_df['Date'], california_df['NewCases'])\n",
    "\n",
    "# texas_df = oxford_data[oxford_data['RegionName'] == 'Texas']\n",
    "# plt.bar(texas_df['Date'], texas_df['NewCases'])"
   ]
  },
  {
   "cell_type": "code",
   "execution_count": 14,
   "metadata": {},
   "outputs": [
    {
     "name": "stdout",
     "output_type": "stream",
     "text": [
      "[nan 'Acre' 'Alagoas' 'Amapa' 'Amazonas' 'Bahia' 'Ceara'\n",
      " 'Distrito Federal' 'Espirito Santo' 'Goias' 'Maranhao' 'Mato Grosso'\n",
      " 'Mato Grosso do Sul' 'Minas Gerais' 'Para' 'Paraiba' 'Parana'\n",
      " 'Pernambuco' 'Piaui' 'Rio Grande do Norte' 'Rio Grande do Sul'\n",
      " 'Rio de Janeiro' 'Rondonia' 'Roraima' 'Santa Catarina' 'Sao Paulo'\n",
      " 'Sergipe' 'Tocantins' 'Alberta' 'British Columbia' 'Manitoba'\n",
      " 'New Brunswick' 'Newfoundland and Labrador' 'Northwest Territories'\n",
      " 'Nova Scotia' 'Nunavut' 'Ontario' 'Prince Edward Island' 'Quebec'\n",
      " 'Saskatchewan' 'Yukon' 'England' 'Northern Ireland' 'Scotland' 'Wales']\n"
     ]
    }
   ],
   "source": [
    "# Remove USA regions for now. Comment out below line if we want every country.\n",
    "oxford_data = oxford_data[(oxford_data['CountryName'] != 'United States')]\n",
    "print(oxford_data['RegionName'].unique())"
   ]
  },
  {
   "cell_type": "code",
   "execution_count": 15,
   "metadata": {},
   "outputs": [
    {
     "data": {
      "text/html": [
       "<div>\n",
       "<style scoped>\n",
       "    .dataframe tbody tr th:only-of-type {\n",
       "        vertical-align: middle;\n",
       "    }\n",
       "\n",
       "    .dataframe tbody tr th {\n",
       "        vertical-align: top;\n",
       "    }\n",
       "\n",
       "    .dataframe thead th {\n",
       "        text-align: right;\n",
       "    }\n",
       "</style>\n",
       "<table border=\"1\" class=\"dataframe\">\n",
       "  <thead>\n",
       "    <tr style=\"text-align: right;\">\n",
       "      <th></th>\n",
       "      <th>Date</th>\n",
       "      <th>CountryName</th>\n",
       "      <th>RegionName</th>\n",
       "      <th>GeoID</th>\n",
       "      <th>C1_School closing_0.0</th>\n",
       "      <th>C1_School closing_1.0</th>\n",
       "      <th>C1_School closing_2.0</th>\n",
       "      <th>C1_School closing_3.0</th>\n",
       "      <th>C2_Workplace closing_0.0</th>\n",
       "      <th>C2_Workplace closing_1.0</th>\n",
       "      <th>...</th>\n",
       "      <th>H3_Contact tracing_0.0</th>\n",
       "      <th>H3_Contact tracing_1.0</th>\n",
       "      <th>H3_Contact tracing_2.0</th>\n",
       "      <th>H6_Facial Coverings_0.0</th>\n",
       "      <th>H6_Facial Coverings_1.0</th>\n",
       "      <th>H6_Facial Coverings_2.0</th>\n",
       "      <th>H6_Facial Coverings_3.0</th>\n",
       "      <th>H6_Facial Coverings_4.0</th>\n",
       "      <th>NewCases</th>\n",
       "      <th>7DMA</th>\n",
       "    </tr>\n",
       "  </thead>\n",
       "  <tbody>\n",
       "    <tr>\n",
       "      <th>0</th>\n",
       "      <td>2020-01-01</td>\n",
       "      <td>Afghanistan</td>\n",
       "      <td>NaN</td>\n",
       "      <td>Afghanistan__nan</td>\n",
       "      <td>1</td>\n",
       "      <td>0</td>\n",
       "      <td>0</td>\n",
       "      <td>0</td>\n",
       "      <td>1</td>\n",
       "      <td>0</td>\n",
       "      <td>...</td>\n",
       "      <td>1</td>\n",
       "      <td>0</td>\n",
       "      <td>0</td>\n",
       "      <td>1</td>\n",
       "      <td>0</td>\n",
       "      <td>0</td>\n",
       "      <td>0</td>\n",
       "      <td>0</td>\n",
       "      <td>0.0</td>\n",
       "      <td>0.000000</td>\n",
       "    </tr>\n",
       "    <tr>\n",
       "      <th>1</th>\n",
       "      <td>2020-01-01</td>\n",
       "      <td>Albania</td>\n",
       "      <td>NaN</td>\n",
       "      <td>Albania__nan</td>\n",
       "      <td>1</td>\n",
       "      <td>0</td>\n",
       "      <td>0</td>\n",
       "      <td>0</td>\n",
       "      <td>1</td>\n",
       "      <td>0</td>\n",
       "      <td>...</td>\n",
       "      <td>1</td>\n",
       "      <td>0</td>\n",
       "      <td>0</td>\n",
       "      <td>1</td>\n",
       "      <td>0</td>\n",
       "      <td>0</td>\n",
       "      <td>0</td>\n",
       "      <td>0</td>\n",
       "      <td>0.0</td>\n",
       "      <td>0.000000</td>\n",
       "    </tr>\n",
       "    <tr>\n",
       "      <th>2</th>\n",
       "      <td>2020-01-01</td>\n",
       "      <td>Algeria</td>\n",
       "      <td>NaN</td>\n",
       "      <td>Algeria__nan</td>\n",
       "      <td>1</td>\n",
       "      <td>0</td>\n",
       "      <td>0</td>\n",
       "      <td>0</td>\n",
       "      <td>1</td>\n",
       "      <td>0</td>\n",
       "      <td>...</td>\n",
       "      <td>1</td>\n",
       "      <td>0</td>\n",
       "      <td>0</td>\n",
       "      <td>1</td>\n",
       "      <td>0</td>\n",
       "      <td>0</td>\n",
       "      <td>0</td>\n",
       "      <td>0</td>\n",
       "      <td>0.0</td>\n",
       "      <td>0.000000</td>\n",
       "    </tr>\n",
       "    <tr>\n",
       "      <th>3</th>\n",
       "      <td>2020-01-01</td>\n",
       "      <td>Andorra</td>\n",
       "      <td>NaN</td>\n",
       "      <td>Andorra__nan</td>\n",
       "      <td>1</td>\n",
       "      <td>0</td>\n",
       "      <td>0</td>\n",
       "      <td>0</td>\n",
       "      <td>1</td>\n",
       "      <td>0</td>\n",
       "      <td>...</td>\n",
       "      <td>1</td>\n",
       "      <td>0</td>\n",
       "      <td>0</td>\n",
       "      <td>1</td>\n",
       "      <td>0</td>\n",
       "      <td>0</td>\n",
       "      <td>0</td>\n",
       "      <td>0</td>\n",
       "      <td>0.0</td>\n",
       "      <td>0.000000</td>\n",
       "    </tr>\n",
       "    <tr>\n",
       "      <th>4</th>\n",
       "      <td>2020-01-01</td>\n",
       "      <td>Angola</td>\n",
       "      <td>NaN</td>\n",
       "      <td>Angola__nan</td>\n",
       "      <td>1</td>\n",
       "      <td>0</td>\n",
       "      <td>0</td>\n",
       "      <td>0</td>\n",
       "      <td>1</td>\n",
       "      <td>0</td>\n",
       "      <td>...</td>\n",
       "      <td>1</td>\n",
       "      <td>0</td>\n",
       "      <td>0</td>\n",
       "      <td>1</td>\n",
       "      <td>0</td>\n",
       "      <td>0</td>\n",
       "      <td>0</td>\n",
       "      <td>0</td>\n",
       "      <td>0.0</td>\n",
       "      <td>0.000000</td>\n",
       "    </tr>\n",
       "    <tr>\n",
       "      <th>...</th>\n",
       "      <td>...</td>\n",
       "      <td>...</td>\n",
       "      <td>...</td>\n",
       "      <td>...</td>\n",
       "      <td>...</td>\n",
       "      <td>...</td>\n",
       "      <td>...</td>\n",
       "      <td>...</td>\n",
       "      <td>...</td>\n",
       "      <td>...</td>\n",
       "      <td>...</td>\n",
       "      <td>...</td>\n",
       "      <td>...</td>\n",
       "      <td>...</td>\n",
       "      <td>...</td>\n",
       "      <td>...</td>\n",
       "      <td>...</td>\n",
       "      <td>...</td>\n",
       "      <td>...</td>\n",
       "      <td>...</td>\n",
       "      <td>...</td>\n",
       "    </tr>\n",
       "    <tr>\n",
       "      <th>93795</th>\n",
       "      <td>2020-11-30</td>\n",
       "      <td>Venezuela</td>\n",
       "      <td>NaN</td>\n",
       "      <td>Venezuela__nan</td>\n",
       "      <td>0</td>\n",
       "      <td>0</td>\n",
       "      <td>0</td>\n",
       "      <td>1</td>\n",
       "      <td>0</td>\n",
       "      <td>0</td>\n",
       "      <td>...</td>\n",
       "      <td>1</td>\n",
       "      <td>0</td>\n",
       "      <td>0</td>\n",
       "      <td>0</td>\n",
       "      <td>0</td>\n",
       "      <td>0</td>\n",
       "      <td>0</td>\n",
       "      <td>1</td>\n",
       "      <td>354.0</td>\n",
       "      <td>321.571429</td>\n",
       "    </tr>\n",
       "    <tr>\n",
       "      <th>93796</th>\n",
       "      <td>2020-11-30</td>\n",
       "      <td>Vietnam</td>\n",
       "      <td>NaN</td>\n",
       "      <td>Vietnam__nan</td>\n",
       "      <td>0</td>\n",
       "      <td>1</td>\n",
       "      <td>0</td>\n",
       "      <td>0</td>\n",
       "      <td>0</td>\n",
       "      <td>0</td>\n",
       "      <td>...</td>\n",
       "      <td>0</td>\n",
       "      <td>0</td>\n",
       "      <td>1</td>\n",
       "      <td>0</td>\n",
       "      <td>0</td>\n",
       "      <td>0</td>\n",
       "      <td>1</td>\n",
       "      <td>0</td>\n",
       "      <td>4.0</td>\n",
       "      <td>5.000000</td>\n",
       "    </tr>\n",
       "    <tr>\n",
       "      <th>93797</th>\n",
       "      <td>2020-11-30</td>\n",
       "      <td>Yemen</td>\n",
       "      <td>NaN</td>\n",
       "      <td>Yemen__nan</td>\n",
       "      <td>1</td>\n",
       "      <td>0</td>\n",
       "      <td>0</td>\n",
       "      <td>0</td>\n",
       "      <td>1</td>\n",
       "      <td>0</td>\n",
       "      <td>...</td>\n",
       "      <td>0</td>\n",
       "      <td>1</td>\n",
       "      <td>0</td>\n",
       "      <td>0</td>\n",
       "      <td>1</td>\n",
       "      <td>0</td>\n",
       "      <td>0</td>\n",
       "      <td>0</td>\n",
       "      <td>14.0</td>\n",
       "      <td>12.000000</td>\n",
       "    </tr>\n",
       "    <tr>\n",
       "      <th>93798</th>\n",
       "      <td>2020-11-30</td>\n",
       "      <td>Zambia</td>\n",
       "      <td>NaN</td>\n",
       "      <td>Zambia__nan</td>\n",
       "      <td>0</td>\n",
       "      <td>1</td>\n",
       "      <td>0</td>\n",
       "      <td>0</td>\n",
       "      <td>0</td>\n",
       "      <td>0</td>\n",
       "      <td>...</td>\n",
       "      <td>0</td>\n",
       "      <td>0</td>\n",
       "      <td>1</td>\n",
       "      <td>0</td>\n",
       "      <td>0</td>\n",
       "      <td>0</td>\n",
       "      <td>1</td>\n",
       "      <td>0</td>\n",
       "      <td>39.0</td>\n",
       "      <td>27.571429</td>\n",
       "    </tr>\n",
       "    <tr>\n",
       "      <th>93799</th>\n",
       "      <td>2020-11-30</td>\n",
       "      <td>Zimbabwe</td>\n",
       "      <td>NaN</td>\n",
       "      <td>Zimbabwe__nan</td>\n",
       "      <td>0</td>\n",
       "      <td>1</td>\n",
       "      <td>0</td>\n",
       "      <td>0</td>\n",
       "      <td>0</td>\n",
       "      <td>1</td>\n",
       "      <td>...</td>\n",
       "      <td>0</td>\n",
       "      <td>1</td>\n",
       "      <td>0</td>\n",
       "      <td>0</td>\n",
       "      <td>0</td>\n",
       "      <td>0</td>\n",
       "      <td>1</td>\n",
       "      <td>0</td>\n",
       "      <td>128.0</td>\n",
       "      <td>91.714286</td>\n",
       "    </tr>\n",
       "  </tbody>\n",
       "</table>\n",
       "<p>76045 rows × 52 columns</p>\n",
       "</div>"
      ],
      "text/plain": [
       "            Date  CountryName RegionName             GeoID  \\\n",
       "0     2020-01-01  Afghanistan        NaN  Afghanistan__nan   \n",
       "1     2020-01-01      Albania        NaN      Albania__nan   \n",
       "2     2020-01-01      Algeria        NaN      Algeria__nan   \n",
       "3     2020-01-01      Andorra        NaN      Andorra__nan   \n",
       "4     2020-01-01       Angola        NaN       Angola__nan   \n",
       "...          ...          ...        ...               ...   \n",
       "93795 2020-11-30    Venezuela        NaN    Venezuela__nan   \n",
       "93796 2020-11-30      Vietnam        NaN      Vietnam__nan   \n",
       "93797 2020-11-30        Yemen        NaN        Yemen__nan   \n",
       "93798 2020-11-30       Zambia        NaN       Zambia__nan   \n",
       "93799 2020-11-30     Zimbabwe        NaN     Zimbabwe__nan   \n",
       "\n",
       "       C1_School closing_0.0  C1_School closing_1.0  C1_School closing_2.0  \\\n",
       "0                          1                      0                      0   \n",
       "1                          1                      0                      0   \n",
       "2                          1                      0                      0   \n",
       "3                          1                      0                      0   \n",
       "4                          1                      0                      0   \n",
       "...                      ...                    ...                    ...   \n",
       "93795                      0                      0                      0   \n",
       "93796                      0                      1                      0   \n",
       "93797                      1                      0                      0   \n",
       "93798                      0                      1                      0   \n",
       "93799                      0                      1                      0   \n",
       "\n",
       "       C1_School closing_3.0  C2_Workplace closing_0.0  \\\n",
       "0                          0                         1   \n",
       "1                          0                         1   \n",
       "2                          0                         1   \n",
       "3                          0                         1   \n",
       "4                          0                         1   \n",
       "...                      ...                       ...   \n",
       "93795                      1                         0   \n",
       "93796                      0                         0   \n",
       "93797                      0                         1   \n",
       "93798                      0                         0   \n",
       "93799                      0                         0   \n",
       "\n",
       "       C2_Workplace closing_1.0  ...  H3_Contact tracing_0.0  \\\n",
       "0                             0  ...                       1   \n",
       "1                             0  ...                       1   \n",
       "2                             0  ...                       1   \n",
       "3                             0  ...                       1   \n",
       "4                             0  ...                       1   \n",
       "...                         ...  ...                     ...   \n",
       "93795                         0  ...                       1   \n",
       "93796                         0  ...                       0   \n",
       "93797                         0  ...                       0   \n",
       "93798                         0  ...                       0   \n",
       "93799                         1  ...                       0   \n",
       "\n",
       "       H3_Contact tracing_1.0  H3_Contact tracing_2.0  \\\n",
       "0                           0                       0   \n",
       "1                           0                       0   \n",
       "2                           0                       0   \n",
       "3                           0                       0   \n",
       "4                           0                       0   \n",
       "...                       ...                     ...   \n",
       "93795                       0                       0   \n",
       "93796                       0                       1   \n",
       "93797                       1                       0   \n",
       "93798                       0                       1   \n",
       "93799                       1                       0   \n",
       "\n",
       "       H6_Facial Coverings_0.0  H6_Facial Coverings_1.0  \\\n",
       "0                            1                        0   \n",
       "1                            1                        0   \n",
       "2                            1                        0   \n",
       "3                            1                        0   \n",
       "4                            1                        0   \n",
       "...                        ...                      ...   \n",
       "93795                        0                        0   \n",
       "93796                        0                        0   \n",
       "93797                        0                        1   \n",
       "93798                        0                        0   \n",
       "93799                        0                        0   \n",
       "\n",
       "       H6_Facial Coverings_2.0  H6_Facial Coverings_3.0  \\\n",
       "0                            0                        0   \n",
       "1                            0                        0   \n",
       "2                            0                        0   \n",
       "3                            0                        0   \n",
       "4                            0                        0   \n",
       "...                        ...                      ...   \n",
       "93795                        0                        0   \n",
       "93796                        0                        1   \n",
       "93797                        0                        0   \n",
       "93798                        0                        1   \n",
       "93799                        0                        1   \n",
       "\n",
       "       H6_Facial Coverings_4.0  NewCases        7DMA  \n",
       "0                            0       0.0    0.000000  \n",
       "1                            0       0.0    0.000000  \n",
       "2                            0       0.0    0.000000  \n",
       "3                            0       0.0    0.000000  \n",
       "4                            0       0.0    0.000000  \n",
       "...                        ...       ...         ...  \n",
       "93795                        1     354.0  321.571429  \n",
       "93796                        0       4.0    5.000000  \n",
       "93797                        0      14.0   12.000000  \n",
       "93798                        0      39.0   27.571429  \n",
       "93799                        0     128.0   91.714286  \n",
       "\n",
       "[76045 rows x 52 columns]"
      ]
     },
     "execution_count": 15,
     "metadata": {},
     "output_type": "execute_result"
    }
   ],
   "source": [
    "oxford_data"
   ]
  },
  {
   "cell_type": "code",
   "execution_count": 16,
   "metadata": {},
   "outputs": [
    {
     "data": {
      "text/plain": [
       "<AxesSubplot:>"
      ]
     },
     "execution_count": 16,
     "metadata": {},
     "output_type": "execute_result"
    },
    {
     "data": {
      "image/png": "[encoded data removed]",
      "text/plain": [
       "<Figure size 432x288 with 1 Axes>"
      ]
     },
     "metadata": {
      "needs_background": "light"
     },
     "output_type": "display_data"
    }
   ],
   "source": [
    "oxford_data[(oxford_data['GeoID']=='Afghanistan__nan') & (oxford_data.Date>='2020-10-01')][['7DMA']].plot()"
   ]
  },
  {
   "cell_type": "code",
   "execution_count": 17,
   "metadata": {},
   "outputs": [
    {
     "data": {
      "text/plain": [
       "<AxesSubplot:>"
      ]
     },
     "execution_count": 17,
     "metadata": {},
     "output_type": "execute_result"
    },
    {
     "data": {
      "image/png": "[encoded data removed]",
      "text/plain": [
       "<Figure size 432x288 with 1 Axes>"
      ]
     },
     "metadata": {
      "needs_background": "light"
     },
     "output_type": "display_data"
    }
   ],
   "source": [
    "oxford_data[(oxford_data['GeoID']=='Yemen__nan') & (oxford_data.Date>='2020-10-01')][['NewCases']].plot()"
   ]
  },
  {
   "cell_type": "markdown",
   "metadata": {},
   "source": [
    "### Model Training"
   ]
  },
  {
   "cell_type": "code",
   "execution_count": 18,
   "metadata": {},
   "outputs": [],
   "source": [
    "def process_data(df, nb_lookback_days, nb_lookback_months, test_months, rolling, transform, ff_index):  \n",
    "    cases_col_used = ['7DMA'] if rolling else ['NewCases']\n",
    "    cases_pipe = None\n",
    "    if transform:\n",
    "        # Get cases transform pipe\n",
    "        df['NewCases'], cases_pipe = transform_data(df['NewCases'].to_numpy())\n",
    "        df['7DMA'] = apply_transform(cases_pipe, df['7DMA'].to_numpy())\n",
    "        # Save cases_pipe to be used in predict.py\n",
    "        with open('data/cases_pipe.pkl', 'wb') as pipe_file:\n",
    "            pickle.dump(cases_pipe, pipe_file)\n",
    "    X_cols = cases_col_used + npi_cols      \n",
    "    y_cols = ['GeoID', 'Date'] + cases_col_used # Include GeoID and date to create graphs\n",
    "    \n",
    "    X_samples = []\n",
    "    y_samples = []\n",
    "    X_train = []\n",
    "    y_train = []\n",
    "    X_test = []\n",
    "    y_test = []\n",
    "    train_date = SUBMISSION_DATE-np.timedelta64((nb_lookback_months+test_months)*30, 'D')\n",
    "    geo_ids = df.GeoID.unique()\n",
    "    for g in geo_ids:\n",
    "        gdf = df[(df.GeoID == g) & (df.Date >= train_date)]\n",
    "        all_case_data = np.array(gdf[cases_col_used])\n",
    "        all_npi_data = np.array(gdf[npi_cols])\n",
    "                \n",
    "        all_bookkeeping_data = np.array(gdf[y_cols])\n",
    "\n",
    "        # Create one sample for each day where we have enough data\n",
    "        # Each sample consists of cases and npis for previous nb_lookback_days\n",
    "        nb_total_days = len(gdf)\n",
    "        \n",
    "        for d in range(nb_lookback_days, nb_total_days - 1):\n",
    "            X_cases = all_case_data[d-nb_lookback_days:d]\n",
    "            X_npis = all_npi_data[d - nb_lookback_days:d]\n",
    "            X_npis_or = np.bitwise_or.reduce(X_npis, axis=0)\n",
    "            \n",
    "            X_sample = np.concatenate([X_cases.flatten(),X_npis_or.flatten()]) \n",
    "    \n",
    "            y_sample = all_bookkeeping_data[d]\n",
    "            \n",
    "            if d < nb_total_days-test_months*30:\n",
    "                X_train.append(X_sample)\n",
    "                y_train.append(y_sample)\n",
    "            else:\n",
    "                X_test.append(X_sample)\n",
    "                y_test.append(y_sample)\n",
    "    \n",
    "    X_train = np.array(X_train)\n",
    "    X_test = np.array(X_test)\n",
    "    y_train = np.array(y_train)[:,-1]\n",
    "    y_test = np.array(y_test)\n",
    "    return X_train, X_test, y_train, y_test, cases_pipe"
   ]
  },
  {
   "cell_type": "code",
   "execution_count": 19,
   "metadata": {},
   "outputs": [],
   "source": [
    "# Helpful function to compute mae\n",
    "def mae(pred, true):\n",
    "    return np.mean(np.abs(pred - true))"
   ]
  },
  {
   "cell_type": "code",
   "execution_count": 20,
   "metadata": {},
   "outputs": [],
   "source": [
    "def f_selection(df, nb_lookback_days, nb_lookback_months, test_months, model, rolling, transform, fixed):\n",
    "    df_copy = df.copy()\n",
    "    cases_col_used = ['7DMA'] if rolling else ['NewCases']\n",
    "    if transform:\n",
    "        # Get cases transform pipe\n",
    "        df_copy['NewCases'], cases_pipe = transform_data(df_copy['NewCases'].to_numpy())\n",
    "        df_copy['7DMA'] = apply_transform(cases_pipe, df_copy['7DMA'].to_numpy())\n",
    "        # Save cases_pipe to be used in predict.py\n",
    "        with open('data/cases_pipe.pkl', 'wb') as pipe_file:\n",
    "            pickle.dump(cases_pipe, pipe_file)\n",
    "    # Create training data across all regions for predicting one day ahead\n",
    "    df_copy = add_static_data(df_copy)\n",
    "    X_cols = cases_col_used + npi_cols + census_cols + lodes_cols \n",
    "    y_cols = cases_col_used\n",
    "    \n",
    "    # Column indices for fixed features to be always considered in feature selection\n",
    "#     ff_index = tuple(range(nb_lookback_days*(len(cases_col_used)+len(npi_cols))))\n",
    "    ff_index = tuple(range(nb_lookback_days*(len(cases_col_used)))) if fixed else ()\n",
    "\n",
    "    X_samples = []\n",
    "    y_samples = []\n",
    "    X_train = []\n",
    "    y_train = []\n",
    "    X_test = []\n",
    "    y_test = []\n",
    "    train_date = SUBMISSION_DATE-np.timedelta64((nb_lookback_months+test_months)*30, 'D')\n",
    "    geo_ids = df_copy.GeoID.unique()\n",
    "    for g in geo_ids:\n",
    "        gdf_copy = df_copy[(df_copy.GeoID == g) & (df_copy.Date >= train_date)]\n",
    "        all_case_data = np.array(gdf_copy[cases_col_used])\n",
    "        all_npi_data = np.array(gdf_copy[npi_cols])\n",
    "                \n",
    "        all_bookkeeping_data = np.array(gdf_copy[y_cols])\n",
    "\n",
    "        # Create one sample for each day where we have enough data\n",
    "        # Each sample consists of cases and npis for previous nb_lookback_days\n",
    "        nb_total_days = len(gdf_copy)\n",
    "        \n",
    "        for d in range(nb_lookback_days, nb_total_days - 1):\n",
    "            X_cases = all_case_data[d-nb_lookback_days:d]\n",
    "            X_npis = all_npi_data[d - nb_lookback_days:d]\n",
    "            X_npis_or = np.bitwise_or.reduce(X_npis, axis=0)\n",
    "            \n",
    "          # Flatten all input data\n",
    "            X_sample = np.concatenate([X_cases.flatten(),\n",
    "                                       X_npis_or.flatten()])\n",
    "    \n",
    "            y_sample = all_bookkeeping_data[d]\n",
    "            \n",
    "            if d < nb_total_days-test_months*30:\n",
    "                X_train.append(X_sample)\n",
    "                y_train.append(y_sample)\n",
    "            else:\n",
    "                X_test.append(X_sample)\n",
    "                y_test.append(y_sample)\n",
    "    \n",
    "    X_train = np.array(X_train)\n",
    "    X_test = np.array(X_test)\n",
    "    y_train = np.array(y_train).reshape(-1,1)\n",
    "    y_test = np.array(y_test).reshape(-1,1)\n",
    "    \n",
    "    fs_X = np.vstack((X_train,X_test))\n",
    "    fs_y = np.vstack((y_train, y_test))\n",
    "    fs_cv_in = np.array(list(range(X_train.shape[0]-1,fs_X.shape[0])))\n",
    "    piter = PredefinedHoldoutSplit(fs_cv_in)\n",
    "    sfs1 = sfs(model,\n",
    "            k_features='best',\n",
    "            forward=True,\n",
    "            floating=False,\n",
    "            verbose=2,\n",
    "            scoring='neg_mean_absolute_error',\n",
    "            cv=2,\n",
    "            n_jobs=-1,\n",
    "            fixed_features=ff_index)\n",
    "\n",
    "    # Perform SFFS\n",
    "    sfs1 = sfs1.fit(fs_X, fs_y)\n",
    "    return sfs1"
   ]
  },
  {
   "cell_type": "code",
   "execution_count": 21,
   "metadata": {},
   "outputs": [],
   "source": [
    "def run(df, nb_lookback_days, nb_lookback_months, test_months, model, inspect, graph, rolling, transform, ff_index=[]):\n",
    "    df_copy = df.copy()\n",
    "    X_train, X_test, y_train, y_test, cases_pipe = process_data(df_copy,\n",
    "                                                    nb_lookback_days, \n",
    "                                                    nb_lookback_months,\n",
    "                                                    test_months,\n",
    "                                                    rolling,\n",
    "                                                    transform,\n",
    "                                                    ff_index\n",
    "                                                   )\n",
    "    print(\"X_train: \", X_train.shape)\n",
    "    print(\"X_test: \", X_test.shape)\n",
    "    print(\"y_train: \", y_train.shape)\n",
    "    print(\"y_test: \", y_test.shape)\n",
    "    print('Preprocessing done!')\n",
    "    model.fit(X_train, y_train)\n",
    "    print('Training done!')\n",
    "    # Evaluate model\n",
    "    train_preds = model.predict(X_train)\n",
    "    if transform:\n",
    "        train_preds = inverse_transform(cases_pipe, train_preds)\n",
    "        y_train = inverse_transform(cases_pipe, y_train)\n",
    "    train_preds = np.maximum(train_preds, 0) # Don't predict negative cases\n",
    "    print('Train MAE:', mae(train_preds, y_train))\n",
    "    if X_test.shape[0] != 0:\n",
    "        test_preds = model.predict(X_test)\n",
    "        if transform:\n",
    "            test_preds = inverse_transform(cases_pipe, test_preds).reshape(-1,)\n",
    "            y_test[:,-1] = inverse_transform(cases_pipe, y_test[:,-1]).reshape(-1,)\n",
    "        test_preds = np.maximum(test_preds, 0) # Don't predict negative cases\n",
    "        print('Test MAE:', mae(test_preds, y_test[:,-1]))\n",
    "    \n",
    "    # Inspect the learned feature coefficients for the model\n",
    "    # to see what features it's paying attention to.\n",
    "    if inspect:\n",
    "        # Give names to the features\n",
    "        x_col_names = []\n",
    "        for d in range(-nb_lookback_days, 0):\n",
    "            x_col_names.append('Day ' + str(d) + ' ' + cases_col[0])\n",
    "        for d in range(-nb_lookback_days, 1):\n",
    "            for col_name in npi_cols:\n",
    "                x_col_names.append('Day ' + str(d) + ' ' + col_name)\n",
    "\n",
    "        # View non-zero coefficients\n",
    "        for (col, coeff) in zip(x_col_names, list(model.coef_)):\n",
    "            if coeff != 0.:\n",
    "                print(col, coeff)\n",
    "        print('Intercept', model.intercept_)\n",
    "        \n",
    "    if graph:\n",
    "        graph_np = np.hstack((y_test, test_preds.reshape(-1,1)))\n",
    "        geo_ids = np.unique(graph_np[:,0])\n",
    "        for geo_id in geo_ids:\n",
    "            gnp = graph_np[graph_np[:,0]==geo_id, :]\n",
    "            plt.figure()\n",
    "            plt.plot(gnp[:,1], gnp[:,3], label='Prediction')\n",
    "            plt.plot(gnp[:,1], gnp[:,2], label='Actual')\n",
    "            plt.title(geo_id)\n",
    "            plt.legend()\n",
    "            plt.show()\n",
    "            \n",
    "    return model\n"
   ]
  },
  {
   "cell_type": "code",
   "execution_count": 22,
   "metadata": {},
   "outputs": [],
   "source": [
    "def grid_search(df, nb_lookback_days, nb_lookback_months, test_months, model, rolling, transform, ff_index=[]):\n",
    "    df_copy = df.copy()\n",
    "    X_train, X_test, y_train, y_test, cases_pipe = process_data(df_copy,\n",
    "                                                    nb_lookback_days, \n",
    "                                                    nb_lookback_months,\n",
    "                                                    test_months,\n",
    "                                                    rolling,\n",
    "                                                    transform,\n",
    "                                                    ff_index\n",
    "                                                   )\n",
    "    print(\"X_train: \", X_train.shape)\n",
    "    print(\"X_test: \", X_test.shape)\n",
    "    print(\"y_train: \", y_train.shape)\n",
    "    print(\"y_test: \", y_test.shape)\n",
    "    print('Preprocessing done!')\n",
    "    grid_result = model.fit(X_train, y_train)\n",
    "    print('Training done!')            \n",
    "    return grid_result"
   ]
  },
  {
   "cell_type": "code",
   "execution_count": 23,
   "metadata": {},
   "outputs": [],
   "source": [
    "def save_model(model_name, model):\n",
    "  if not os.path.exists('models'):\n",
    "      os.mkdir('models')\n",
    "  with open(f'models/{model_name}.pkl', 'wb') as model_file:\n",
    "      pickle.dump(model, model_file)"
   ]
  },
  {
   "cell_type": "code",
   "execution_count": null,
   "metadata": {
    "scrolled": true
   },
   "outputs": [],
   "source": [
    "# linear_fs_fixed = f_selection(oxford_data, 30, 20, 2, LinearRegression(), True)"
   ]
  },
  {
   "cell_type": "code",
   "execution_count": 25,
   "metadata": {
    "scrolled": true
   },
   "outputs": [],
   "source": [
    "# linear_fs = f_selection(oxford_data, 30, 20, 2, LinearRegression(), True, False)"
   ]
  },
  {
   "cell_type": "code",
   "execution_count": 26,
   "metadata": {},
   "outputs": [],
   "source": [
    "# with open('data/lin-reg-fs.npy', 'wb') as f:\n",
    "#     np.save(f, np.array(linear_fs.k_feature_idx_), allow_pickle=True)"
   ]
  },
  {
   "cell_type": "code",
   "execution_count": 27,
   "metadata": {},
   "outputs": [],
   "source": [
    "# with open('data/lin-reg-fs.npy', 'rb') as f:\n",
    "#     linear_fs = np.load(f,allow_pickle=True)"
   ]
  },
  {
   "cell_type": "code",
   "execution_count": 28,
   "metadata": {},
   "outputs": [],
   "source": [
    "# with open('data/lin-reg-fs-fixed.npy', 'rb') as f:\n",
    "#     linear_fs_fixed = np.load(f,allow_pickle=True)"
   ]
  },
  {
   "cell_type": "code",
   "execution_count": 25,
   "metadata": {
    "scrolled": true
   },
   "outputs": [
    {
     "name": "stdout",
     "output_type": "stream",
     "text": [
      "X_train:  (69008, 76)\n",
      "X_test:  (0,)\n",
      "y_train:  (69008,)\n",
      "y_test:  (0,)\n",
      "Preprocessing done!\n",
      "Training done!\n",
      "Train MAE: 2565.474961495018\n"
     ]
    }
   ],
   "source": [
    "# Model number: static+rolling+transform+ff_index(0=no feature selection 1=fixed, 2=not fixed)\n",
    "linreg_model_0000 = run(df=oxford_data, \n",
    "            nb_lookback_days=30, \n",
    "            nb_lookback_months=20, \n",
    "            test_months=0, \n",
    "            model=LinearRegression(), \n",
    "            inspect=False, \n",
    "            graph=False, \n",
    "            rolling=False,\n",
    "            transform=False,\n",
    "            ff_index=[])\n",
    "save_model('linreg_model_0000', linreg_model_0000)"
   ]
  },
  {
   "cell_type": "code",
   "execution_count": 26,
   "metadata": {},
   "outputs": [
    {
     "name": "stdout",
     "output_type": "stream",
     "text": [
      "X_train:  (69008, 76)\n",
      "X_test:  (0,)\n",
      "y_train:  (69008,)\n",
      "y_test:  (0,)\n",
      "Preprocessing done!\n",
      "Training done!\n",
      "Train MAE: 444.07442892070753\n"
     ]
    }
   ],
   "source": [
    "linreg_model_0100 = run(df=oxford_data, \n",
    "            nb_lookback_days=30, \n",
    "            nb_lookback_months=20, \n",
    "            test_months=0, \n",
    "            model=LinearRegression(), \n",
    "            inspect=False, \n",
    "            graph=False, \n",
    "            rolling=True,\n",
    "            transform=False,\n",
    "            ff_index=[])\n",
    "save_model('linreg_model_0100', linreg_model_0100)"
   ]
  },
  {
   "cell_type": "code",
   "execution_count": 27,
   "metadata": {},
   "outputs": [
    {
     "name": "stdout",
     "output_type": "stream",
     "text": [
      "X_train:  (69008, 76)\n",
      "X_test:  (0,)\n",
      "y_train:  (69008,)\n",
      "y_test:  (0,)\n",
      "Preprocessing done!\n",
      "Training done!\n",
      "Train MAE: 2565.474961495104\n"
     ]
    }
   ],
   "source": [
    "linreg_model_0010 = run(df=oxford_data, \n",
    "            nb_lookback_days=30, \n",
    "            nb_lookback_months=20, \n",
    "            test_months=0, \n",
    "            model=LinearRegression(), \n",
    "            inspect=False, \n",
    "            graph=False, \n",
    "            rolling=False,\n",
    "            transform=True,\n",
    "            ff_index=[])\n",
    "save_model('linreg_model_0010', linreg_model_0010)"
   ]
  },
  {
   "cell_type": "code",
   "execution_count": 28,
   "metadata": {},
   "outputs": [
    {
     "name": "stdout",
     "output_type": "stream",
     "text": [
      "X_train:  (69008, 76)\n",
      "X_test:  (0,)\n",
      "y_train:  (69008,)\n",
      "y_test:  (0,)\n",
      "Preprocessing done!\n",
      "Training done!\n",
      "Train MAE: 444.07442892069366\n"
     ]
    }
   ],
   "source": [
    "linreg_model_0110 = run(df=oxford_data, \n",
    "            nb_lookback_days=30, \n",
    "            nb_lookback_months=20, \n",
    "            test_months=0, \n",
    "            model=LinearRegression(), \n",
    "            inspect=False, \n",
    "            graph=False, \n",
    "            rolling=True,\n",
    "            transform=True,\n",
    "            ff_index=[])\n",
    "save_model('linreg_model_0110', linreg_model_0110)"
   ]
  },
  {
   "cell_type": "code",
   "execution_count": 29,
   "metadata": {},
   "outputs": [],
   "source": [
    "# linreg_model_1000 = run(df=oxford_data, \n",
    "#             nb_lookback_days=30, \n",
    "#             nb_lookback_months=20, \n",
    "#             test_months=0, \n",
    "#             model=LinearRegression(), \n",
    "#             inspect=False, \n",
    "#             graph=False, \n",
    "#             static=True, \n",
    "#             rolling=False,\n",
    "#             transform=False,\n",
    "#             ff_index=[])\n",
    "# save_model('linreg_model_1000', linreg_model_1000)"
   ]
  },
  {
   "cell_type": "code",
   "execution_count": 30,
   "metadata": {},
   "outputs": [],
   "source": [
    "# linreg_model_1001 = run(df=oxford_data, \n",
    "#             nb_lookback_days=30, \n",
    "#             nb_lookback_months=20, \n",
    "#             test_months=0, \n",
    "#             model=LinearRegression(), \n",
    "#             inspect=False, \n",
    "#             graph=False, \n",
    "#             static=True, \n",
    "#             rolling=False,\n",
    "#             transform=False,\n",
    "#             ff_index=linear_fs_fixed)\n",
    "# save_model('linreg_model_1001', linreg_model_1001)"
   ]
  },
  {
   "cell_type": "code",
   "execution_count": 31,
   "metadata": {},
   "outputs": [],
   "source": [
    "# linreg_model_1002 = run(df=oxford_data, \n",
    "#             nb_lookback_days=30, \n",
    "#             nb_lookback_months=20, \n",
    "#             test_months=0, \n",
    "#             model=LinearRegression(), \n",
    "#             inspect=False, \n",
    "#             graph=False, \n",
    "#             static=True, \n",
    "#             rolling=False,\n",
    "#             transform=False,\n",
    "#             ff_index=linear_fs)\n",
    "# save_model('linreg_model_1002', linreg_model_1002)"
   ]
  },
  {
   "cell_type": "code",
   "execution_count": 32,
   "metadata": {},
   "outputs": [],
   "source": [
    "# linreg_model_1100 = run(df=oxford_data, \n",
    "#             nb_lookback_days=30, \n",
    "#             nb_lookback_months=20, \n",
    "#             test_months=0, \n",
    "#             model=LinearRegression(), \n",
    "#             inspect=False, \n",
    "#             graph=False, \n",
    "#             static=True, \n",
    "#             rolling=True,\n",
    "#             transform=False,\n",
    "#             ff_index=[])\n",
    "# save_model('linreg_model_1100', linreg_model_1100)"
   ]
  },
  {
   "cell_type": "code",
   "execution_count": 33,
   "metadata": {},
   "outputs": [],
   "source": [
    "# linreg_model_1101 = run(df=oxford_data, \n",
    "#             nb_lookback_days=30, \n",
    "#             nb_lookback_months=20, \n",
    "#             test_months=0, \n",
    "#             model=LinearRegression(), \n",
    "#             inspect=False, \n",
    "#             graph=False, \n",
    "#             static=True, \n",
    "#             rolling=True,\n",
    "#             transform=False,\n",
    "#             ff_index=linear_fs_fixed)\n",
    "# save_model('linreg_model_1101', linreg_model_1101)"
   ]
  },
  {
   "cell_type": "code",
   "execution_count": 34,
   "metadata": {},
   "outputs": [],
   "source": [
    "# linreg_model_1102 = run(df=oxford_data, \n",
    "#             nb_lookback_days=30, \n",
    "#             nb_lookback_months=20, \n",
    "#             test_months=0, \n",
    "#             model=LinearRegression(), \n",
    "#             inspect=False, \n",
    "#             graph=False, \n",
    "#             static=True, \n",
    "#             rolling=True,\n",
    "#             transform=False,\n",
    "#             ff_index=linear_fs)\n",
    "# save_model('linreg_model_1102', linreg_model_1102)"
   ]
  },
  {
   "cell_type": "code",
   "execution_count": 35,
   "metadata": {},
   "outputs": [],
   "source": [
    "# linreg_model_1112 = run(df=oxford_data, \n",
    "#             nb_lookback_days=30, \n",
    "#             nb_lookback_months=20, \n",
    "#             test_months=0, \n",
    "#             model=LinearRegression(), \n",
    "#             inspect=False, \n",
    "#             graph=False, \n",
    "#             static=True, \n",
    "#             rolling=True,\n",
    "#             transform=True,\n",
    "#             ff_index=linear_fs)\n",
    "# save_model('linreg_model_1112', linreg_model_1112)"
   ]
  },
  {
   "cell_type": "markdown",
   "metadata": {},
   "source": [
    "####"
   ]
  },
  {
   "cell_type": "code",
   "execution_count": 36,
   "metadata": {},
   "outputs": [
    {
     "name": "stdout",
     "output_type": "stream",
     "text": [
      "X_train:  (34050, 76)\n",
      "X_test:  (0,)\n",
      "y_train:  (34050,)\n",
      "y_test:  (0,)\n",
      "Preprocessing done!\n",
      "Training done!\n",
      "Train MAE: 4625.245993222584\n"
     ]
    }
   ],
   "source": [
    "linreg_model_0000_6 = run(df=oxford_data, \n",
    "            nb_lookback_days=30, \n",
    "            nb_lookback_months=6, \n",
    "            test_months=0, \n",
    "            model=LinearRegression(), \n",
    "            inspect=False, \n",
    "            graph=False, \n",
    "            rolling=False,\n",
    "            transform=False,\n",
    "            ff_index=[])\n",
    "save_model('linreg_model_0000_6', linreg_model_0000_6)"
   ]
  },
  {
   "cell_type": "code",
   "execution_count": 37,
   "metadata": {},
   "outputs": [],
   "source": [
    "# linreg_model_1102_6 = run(df=oxford_data, \n",
    "#             nb_lookback_days=30, \n",
    "#             nb_lookback_months=6, \n",
    "#             test_months=0, \n",
    "#             model=LinearRegression(), \n",
    "#             inspect=False, \n",
    "#             graph=False, \n",
    "#             static=True, \n",
    "#             rolling=True,\n",
    "#             transform=False,\n",
    "#             ff_index=linear_fs)\n",
    "# save_model('linreg_model_1102_6', linreg_model_1102_6)"
   ]
  },
  {
   "cell_type": "code",
   "execution_count": 38,
   "metadata": {},
   "outputs": [
    {
     "name": "stdout",
     "output_type": "stream",
     "text": [
      "X_train:  (34050, 76)\n",
      "X_test:  (0,)\n",
      "y_train:  (34050,)\n",
      "y_test:  (0,)\n",
      "Preprocessing done!\n",
      "Training done!\n",
      "Train MAE: 803.4329386130007\n"
     ]
    }
   ],
   "source": [
    "linreg_model_0110_6 = run(df=oxford_data, \n",
    "            nb_lookback_days=30, \n",
    "            nb_lookback_months=6, \n",
    "            test_months=0, \n",
    "            model=LinearRegression(), \n",
    "            inspect=False, \n",
    "            graph=False, \n",
    "            rolling=True,\n",
    "            transform=True,\n",
    "            ff_index=[])\n",
    "save_model('linreg_model_0110_6', linreg_model_0110_6)"
   ]
  },
  {
   "cell_type": "markdown",
   "metadata": {},
   "source": [
    "####"
   ]
  },
  {
   "cell_type": "code",
   "execution_count": 39,
   "metadata": {},
   "outputs": [
    {
     "name": "stdout",
     "output_type": "stream",
     "text": [
      "X_train:  (6810, 76)\n",
      "X_test:  (0,)\n",
      "y_train:  (6810,)\n",
      "y_test:  (0,)\n",
      "Preprocessing done!\n",
      "Training done!\n",
      "Train MAE: 6823.539182121266\n"
     ]
    }
   ],
   "source": [
    "linreg_model_0000_2 = run(df=oxford_data, \n",
    "            nb_lookback_days=30, \n",
    "            nb_lookback_months=2, \n",
    "            test_months=0, \n",
    "            model=LinearRegression(), \n",
    "            inspect=False, \n",
    "            graph=False, \n",
    "            rolling=False,\n",
    "            transform=False,\n",
    "            ff_index=[])\n",
    "save_model('linreg_model_0000_2', linreg_model_0000_2)"
   ]
  },
  {
   "cell_type": "code",
   "execution_count": 40,
   "metadata": {},
   "outputs": [],
   "source": [
    "# linreg_model_1102_2 = run(df=oxford_data, \n",
    "#             nb_lookback_days=30, \n",
    "#             nb_lookback_months=2, \n",
    "#             test_months=0, \n",
    "#             model=LinearRegression(), \n",
    "#             inspect=False, \n",
    "#             graph=False, \n",
    "#             static=True, \n",
    "#             rolling=True,\n",
    "#             transform=False,\n",
    "#             ff_index=linear_fs)\n",
    "# save_model('linreg_model_1102_2', linreg_model_1102_2)"
   ]
  },
  {
   "cell_type": "code",
   "execution_count": 41,
   "metadata": {},
   "outputs": [
    {
     "name": "stdout",
     "output_type": "stream",
     "text": [
      "X_train:  (6810, 76)\n",
      "X_test:  (0,)\n",
      "y_train:  (6810,)\n",
      "y_test:  (0,)\n",
      "Preprocessing done!\n",
      "Training done!\n",
      "Train MAE: 6823.539182120867\n"
     ]
    }
   ],
   "source": [
    "linreg_model_0010_2 = run(df=oxford_data, \n",
    "            nb_lookback_days=30, \n",
    "            nb_lookback_months=2, \n",
    "            test_months=0, \n",
    "            model=LinearRegression(), \n",
    "            inspect=False, \n",
    "            graph=False, \n",
    "            rolling=False,\n",
    "            transform=True,\n",
    "            ff_index=[])\n",
    "save_model('linreg_model_0010_2', linreg_model_0010_2)"
   ]
  },
  {
   "cell_type": "code",
   "execution_count": 42,
   "metadata": {},
   "outputs": [
    {
     "name": "stdout",
     "output_type": "stream",
     "text": [
      "X_train:  (34050, 76)\n",
      "X_test:  (0,)\n",
      "y_train:  (34050,)\n",
      "y_test:  (0,)\n",
      "Preprocessing done!\n",
      "Training done!\n",
      "Train MAE: 4625.245993222534\n"
     ]
    }
   ],
   "source": [
    "linreg_model_0010_6 = run(df=oxford_data, \n",
    "            nb_lookback_days=30, \n",
    "            nb_lookback_months=6, \n",
    "            test_months=0, \n",
    "            model=LinearRegression(), \n",
    "            inspect=False, \n",
    "            graph=False, \n",
    "            rolling=False,\n",
    "            transform=True,\n",
    "            ff_index=[])\n",
    "save_model('linreg_model_0010_6', linreg_model_0010_6)"
   ]
  },
  {
   "cell_type": "code",
   "execution_count": 43,
   "metadata": {},
   "outputs": [
    {
     "name": "stdout",
     "output_type": "stream",
     "text": [
      "X_train:  (6810, 76)\n",
      "X_test:  (0,)\n",
      "y_train:  (6810,)\n",
      "y_test:  (0,)\n",
      "Preprocessing done!\n",
      "Training done!\n",
      "Train MAE: 1602.5830749246204\n"
     ]
    }
   ],
   "source": [
    "linreg_model_0100_2 = run(df=oxford_data, \n",
    "            nb_lookback_days=30, \n",
    "            nb_lookback_months=2, \n",
    "            test_months=0, \n",
    "            model=LinearRegression(), \n",
    "            inspect=False, \n",
    "            graph=False, \n",
    "            rolling=True,\n",
    "            transform=False,\n",
    "            ff_index=[])\n",
    "save_model('linreg_model_0100_2', linreg_model_0100_2)"
   ]
  },
  {
   "cell_type": "code",
   "execution_count": 44,
   "metadata": {},
   "outputs": [
    {
     "name": "stdout",
     "output_type": "stream",
     "text": [
      "X_train:  (34050, 76)\n",
      "X_test:  (0,)\n",
      "y_train:  (34050,)\n",
      "y_test:  (0,)\n",
      "Preprocessing done!\n",
      "Training done!\n",
      "Train MAE: 803.4329386130172\n"
     ]
    }
   ],
   "source": [
    "linreg_model_0100_6 = run(df=oxford_data, \n",
    "            nb_lookback_days=30, \n",
    "            nb_lookback_months=6, \n",
    "            test_months=0, \n",
    "            model=LinearRegression(), \n",
    "            inspect=False, \n",
    "            graph=False, \n",
    "            rolling=True,\n",
    "            transform=False,\n",
    "            ff_index=[])\n",
    "save_model('linreg_model_0100_6', linreg_model_0100_6)"
   ]
  },
  {
   "cell_type": "code",
   "execution_count": 45,
   "metadata": {},
   "outputs": [
    {
     "name": "stdout",
     "output_type": "stream",
     "text": [
      "X_train:  (6810, 76)\n",
      "X_test:  (0,)\n",
      "y_train:  (6810,)\n",
      "y_test:  (0,)\n",
      "Preprocessing done!\n",
      "Training done!\n",
      "Train MAE: 1602.5830749246206\n"
     ]
    }
   ],
   "source": [
    "linreg_model_0110_2 = run(df=oxford_data, \n",
    "            nb_lookback_days=30, \n",
    "            nb_lookback_months=2, \n",
    "            test_months=0, \n",
    "            model=LinearRegression(), \n",
    "            inspect=False, \n",
    "            graph=False, \n",
    "            rolling=True,\n",
    "            transform=True,\n",
    "            ff_index=[])\n",
    "save_model('linreg_model_0110_2', linreg_model_0110_2)"
   ]
  },
  {
   "cell_type": "markdown",
   "metadata": {},
   "source": [
    "## Lasso"
   ]
  },
  {
   "cell_type": "code",
   "execution_count": 46,
   "metadata": {},
   "outputs": [],
   "source": [
    "lasso = Lasso(alpha=0.1,\n",
    "              precompute=True,\n",
    "              max_iter=10000,\n",
    "              positive=True,\n",
    "              selection='random')"
   ]
  },
  {
   "cell_type": "code",
   "execution_count": 47,
   "metadata": {},
   "outputs": [
    {
     "name": "stdout",
     "output_type": "stream",
     "text": [
      "X_train:  (69008, 76)\n",
      "X_test:  (0,)\n",
      "y_train:  (69008,)\n",
      "y_test:  (0,)\n",
      "Preprocessing done!\n",
      "Training done!\n",
      "Train MAE: 568.455260838862\n"
     ]
    }
   ],
   "source": [
    "lasso_model_0100 = run(df=oxford_data, \n",
    "            nb_lookback_days=30, \n",
    "            nb_lookback_months=20, \n",
    "            test_months=0, \n",
    "            model=lasso, \n",
    "            inspect=False, \n",
    "            graph=False, \n",
    "            rolling=True,\n",
    "            transform=False,\n",
    "            ff_index=[])\n",
    "save_model('lasso_model_0100', lasso_model_0100)"
   ]
  },
  {
   "cell_type": "code",
   "execution_count": 48,
   "metadata": {},
   "outputs": [
    {
     "name": "stdout",
     "output_type": "stream",
     "text": [
      "X_train:  (69008, 76)\n",
      "X_test:  (0,)\n",
      "y_train:  (69008,)\n",
      "y_test:  (0,)\n",
      "Preprocessing done!\n",
      "Training done!\n",
      "Train MAE: 1514.4813314806477\n"
     ]
    }
   ],
   "source": [
    "lasso_model_0110 = run(df=oxford_data, \n",
    "            nb_lookback_days=30, \n",
    "            nb_lookback_months=20, \n",
    "            test_months=0, \n",
    "            model=lasso, \n",
    "            inspect=False, \n",
    "            graph=False, \n",
    "            rolling=True,\n",
    "            transform=True,\n",
    "            ff_index=[])\n",
    "save_model('lasso_model_0110', lasso_model_0110)"
   ]
  },
  {
   "cell_type": "code",
   "execution_count": 49,
   "metadata": {},
   "outputs": [],
   "source": [
    "# lasso_model_1100 = run(df=oxford_data, \n",
    "#             nb_lookback_days=30, \n",
    "#             nb_lookback_months=20, \n",
    "#             test_months=0, \n",
    "#             model=lasso, \n",
    "#             inspect=False, \n",
    "#             graph=False, \n",
    "#             static=True, \n",
    "#             rolling=True,\n",
    "#             transform=False,\n",
    "#             ff_index=[])\n",
    "# save_model('lasso_model_1100', lasso_model_1100)"
   ]
  },
  {
   "cell_type": "code",
   "execution_count": 50,
   "metadata": {},
   "outputs": [
    {
     "name": "stdout",
     "output_type": "stream",
     "text": [
      "X_train:  (34050, 76)\n",
      "X_test:  (0,)\n",
      "y_train:  (34050,)\n",
      "y_test:  (0,)\n",
      "Preprocessing done!\n",
      "Training done!\n",
      "Train MAE: 1026.0767244897188\n"
     ]
    }
   ],
   "source": [
    "lasso_model_0100_6 = run(df=oxford_data, \n",
    "            nb_lookback_days=30, \n",
    "            nb_lookback_months=6, \n",
    "            test_months=0, \n",
    "            model=lasso, \n",
    "            inspect=False, \n",
    "            graph=False, \n",
    "            rolling=True,\n",
    "            transform=False,\n",
    "            ff_index=[])\n",
    "save_model('lasso_model_0100_6', lasso_model_0100_6)"
   ]
  },
  {
   "cell_type": "code",
   "execution_count": 51,
   "metadata": {},
   "outputs": [
    {
     "name": "stdout",
     "output_type": "stream",
     "text": [
      "X_train:  (34050, 76)\n",
      "X_test:  (0,)\n",
      "y_train:  (34050,)\n",
      "y_test:  (0,)\n",
      "Preprocessing done!\n",
      "Training done!\n",
      "Train MAE: 2500.15102490453\n"
     ]
    }
   ],
   "source": [
    "lasso_model_0110_6 = run(df=oxford_data, \n",
    "            nb_lookback_days=30, \n",
    "            nb_lookback_months=6, \n",
    "            test_months=0, \n",
    "            model=lasso, \n",
    "            inspect=False, \n",
    "            graph=False, \n",
    "            rolling=True,\n",
    "            transform=True,\n",
    "            ff_index=[])\n",
    "save_model('lasso_model_0110_6', lasso_model_0110_6)"
   ]
  },
  {
   "cell_type": "code",
   "execution_count": 52,
   "metadata": {},
   "outputs": [],
   "source": [
    "# lasso_model_1100_6 = run(df=oxford_data, \n",
    "#             nb_lookback_days=30, \n",
    "#             nb_lookback_months=6, \n",
    "#             test_months=0, \n",
    "#             model=lasso, \n",
    "#             inspect=False, \n",
    "#             graph=False, \n",
    "#             static=True, \n",
    "#             rolling=True,\n",
    "#             transform=False,\n",
    "#             ff_index=[])\n",
    "# save_model('lasso_model_1100_6', lasso_model_1100_6)"
   ]
  },
  {
   "cell_type": "code",
   "execution_count": 53,
   "metadata": {},
   "outputs": [
    {
     "name": "stdout",
     "output_type": "stream",
     "text": [
      "X_train:  (6810, 76)\n",
      "X_test:  (0,)\n",
      "y_train:  (6810,)\n",
      "y_test:  (0,)\n",
      "Preprocessing done!\n",
      "Training done!\n",
      "Train MAE: 2643.6419652554964\n"
     ]
    }
   ],
   "source": [
    "lasso_model_0100_2 = run(df=oxford_data, \n",
    "            nb_lookback_days=30, \n",
    "            nb_lookback_months=2, \n",
    "            test_months=0, \n",
    "            model=lasso, \n",
    "            inspect=False, \n",
    "            graph=False, \n",
    "            rolling=True,\n",
    "            transform=False,\n",
    "            ff_index=[])\n",
    "save_model('lasso_model_0100_2', lasso_model_0100_2)"
   ]
  },
  {
   "cell_type": "code",
   "execution_count": 54,
   "metadata": {},
   "outputs": [
    {
     "name": "stdout",
     "output_type": "stream",
     "text": [
      "X_train:  (6810, 76)\n",
      "X_test:  (0,)\n",
      "y_train:  (6810,)\n",
      "y_test:  (0,)\n",
      "Preprocessing done!\n",
      "Training done!\n",
      "Train MAE: 4489.501763530886\n"
     ]
    }
   ],
   "source": [
    "lasso_model_0110_2 = run(df=oxford_data, \n",
    "            nb_lookback_days=30, \n",
    "            nb_lookback_months=2, \n",
    "            test_months=0, \n",
    "            model=lasso, \n",
    "            inspect=False, \n",
    "            graph=False, \n",
    "            rolling=True,\n",
    "            transform=True,\n",
    "            ff_index=[])\n",
    "save_model('lasso_model_0110_2', lasso_model_0110_2)"
   ]
  },
  {
   "cell_type": "code",
   "execution_count": 55,
   "metadata": {},
   "outputs": [],
   "source": [
    "# lasso_model_1100_2 = run(df=oxford_data, \n",
    "#             nb_lookback_days=30, \n",
    "#             nb_lookback_months=2, \n",
    "#             test_months=0, \n",
    "#             model=lasso, \n",
    "#             inspect=False, \n",
    "#             graph=False, \n",
    "#             static=True, \n",
    "#             rolling=True,\n",
    "#             transform=False,\n",
    "#             ff_index=[])\n",
    "# save_model('lasso_model_1100_2', lasso_model_1100_2)"
   ]
  },
  {
   "cell_type": "code",
   "execution_count": 56,
   "metadata": {},
   "outputs": [
    {
     "name": "stdout",
     "output_type": "stream",
     "text": [
      "X_train:  (69008, 76)\n",
      "X_test:  (0,)\n",
      "y_train:  (69008,)\n",
      "y_test:  (0,)\n",
      "Preprocessing done!\n",
      "Training done!\n",
      "Train MAE: 2776.0051657325066\n"
     ]
    }
   ],
   "source": [
    "lasso_model_0000 = run(df=oxford_data, \n",
    "            nb_lookback_days=30, \n",
    "            nb_lookback_months=20, \n",
    "            test_months=0, \n",
    "            model=lasso, \n",
    "            inspect=False, \n",
    "            graph=False, \n",
    "            rolling=False,\n",
    "            transform=False,\n",
    "            ff_index=[])\n",
    "save_model('lasso_model_0000', lasso_model_0000)"
   ]
  },
  {
   "cell_type": "code",
   "execution_count": 57,
   "metadata": {},
   "outputs": [
    {
     "name": "stdout",
     "output_type": "stream",
     "text": [
      "X_train:  (34050, 76)\n",
      "X_test:  (0,)\n",
      "y_train:  (34050,)\n",
      "y_test:  (0,)\n",
      "Preprocessing done!\n",
      "Training done!\n",
      "Train MAE: 5123.737783258018\n"
     ]
    }
   ],
   "source": [
    "lasso_model_0000_6 = run(df=oxford_data, \n",
    "            nb_lookback_days=30, \n",
    "            nb_lookback_months=6, \n",
    "            test_months=0, \n",
    "            model=lasso, \n",
    "            inspect=False, \n",
    "            graph=False, \n",
    "            rolling=False,\n",
    "            transform=False,\n",
    "            ff_index=[])\n",
    "save_model('lasso_model_0000_6', lasso_model_0000_6)"
   ]
  },
  {
   "cell_type": "code",
   "execution_count": 58,
   "metadata": {},
   "outputs": [
    {
     "name": "stdout",
     "output_type": "stream",
     "text": [
      "X_train:  (6810, 76)\n",
      "X_test:  (0,)\n",
      "y_train:  (6810,)\n",
      "y_test:  (0,)\n",
      "Preprocessing done!\n",
      "Training done!\n",
      "Train MAE: 9900.875321088559\n"
     ]
    }
   ],
   "source": [
    "lasso_model_0000_2 = run(df=oxford_data, \n",
    "            nb_lookback_days=30, \n",
    "            nb_lookback_months=2, \n",
    "            test_months=0, \n",
    "            model=lasso, \n",
    "            inspect=False, \n",
    "            graph=False, \n",
    "            rolling=False,\n",
    "            transform=False,\n",
    "            ff_index=[])\n",
    "save_model('lasso_model_0000_2', lasso_model_0000_2)"
   ]
  },
  {
   "cell_type": "code",
   "execution_count": 59,
   "metadata": {},
   "outputs": [
    {
     "name": "stdout",
     "output_type": "stream",
     "text": [
      "X_train:  (69008, 76)\n",
      "X_test:  (0,)\n",
      "y_train:  (69008,)\n",
      "y_test:  (0,)\n",
      "Preprocessing done!\n",
      "Training done!\n",
      "Train MAE: 2631.1284328549846\n"
     ]
    }
   ],
   "source": [
    "lasso_model_0010 = run(df=oxford_data, \n",
    "            nb_lookback_days=30, \n",
    "            nb_lookback_months=20, \n",
    "            test_months=0, \n",
    "            model=lasso, \n",
    "            inspect=False, \n",
    "            graph=False, \n",
    "            rolling=False,\n",
    "            transform=True,\n",
    "            ff_index=[])\n",
    "save_model('lasso_model_0010', lasso_model_0010)"
   ]
  },
  {
   "cell_type": "code",
   "execution_count": 60,
   "metadata": {},
   "outputs": [
    {
     "name": "stdout",
     "output_type": "stream",
     "text": [
      "X_train:  (6810, 76)\n",
      "X_test:  (0,)\n",
      "y_train:  (6810,)\n",
      "y_test:  (0,)\n",
      "Preprocessing done!\n",
      "Training done!\n",
      "Train MAE: 9012.34903285223\n"
     ]
    }
   ],
   "source": [
    "lasso_model_0010_2 = run(df=oxford_data, \n",
    "            nb_lookback_days=30, \n",
    "            nb_lookback_months=2, \n",
    "            test_months=0, \n",
    "            model=lasso, \n",
    "            inspect=False, \n",
    "            graph=False, \n",
    "            rolling=False,\n",
    "            transform=True,\n",
    "            ff_index=[])\n",
    "save_model('lasso_model_0010_2', lasso_model_0010_2)"
   ]
  },
  {
   "cell_type": "code",
   "execution_count": 61,
   "metadata": {},
   "outputs": [
    {
     "name": "stdout",
     "output_type": "stream",
     "text": [
      "X_train:  (34050, 76)\n",
      "X_test:  (0,)\n",
      "y_train:  (34050,)\n",
      "y_test:  (0,)\n",
      "Preprocessing done!\n",
      "Training done!\n",
      "Train MAE: 4474.792731567171\n"
     ]
    }
   ],
   "source": [
    "lasso_model_0010_6 = run(df=oxford_data, \n",
    "            nb_lookback_days=30, \n",
    "            nb_lookback_months=6, \n",
    "            test_months=0, \n",
    "            model=lasso, \n",
    "            inspect=False, \n",
    "            graph=False, \n",
    "            rolling=False,\n",
    "            transform=True,\n",
    "            ff_index=[])\n",
    "save_model('lasso_model_0010_6', lasso_model_0010_6)"
   ]
  },
  {
   "cell_type": "markdown",
   "metadata": {},
   "source": [
    "## SVR"
   ]
  },
  {
   "cell_type": "code",
   "execution_count": null,
   "metadata": {
    "scrolled": true
   },
   "outputs": [
    {
     "name": "stdout",
     "output_type": "stream",
     "text": [
      "X_train:  (69008, 76)\n",
      "X_test:  (0,)\n",
      "y_train:  (69008,)\n",
      "y_test:  (0,)\n",
      "Preprocessing done!\n",
      "Fitting 2 folds for each of 90 candidates, totalling 180 fits\n"
     ]
    },
    {
     "name": "stderr",
     "output_type": "stream",
     "text": [
      "[Parallel(n_jobs=-1)]: Using backend LokyBackend with 8 concurrent workers.\n",
      "[Parallel(n_jobs=-1)]: Done  25 tasks      | elapsed: 31.1min\n"
     ]
    }
   ],
   "source": [
    "# gsc = GridSearchCV(\n",
    "#         estimator=SVR(),\n",
    "#         param_grid={\n",
    "#             'kernel': ['rbf'],\n",
    "#             'C': [0.1, 1, 100],\n",
    "#             'epsilon': [0.0001, 0.001, 0.01, 0.1, 1, 10],\n",
    "#             'gamma': [0.0001, 0.001, 0.1, 1, 5]\n",
    "#         },\n",
    "#         cv=2, scoring='neg_mean_squared_error', verbose=2, n_jobs=-1)\n",
    "# best_svr = grid_search(df=oxford_data, \n",
    "#             nb_lookback_days=30, \n",
    "#             nb_lookback_months=20, \n",
    "#             test_months=0, \n",
    "#             model=gsc, \n",
    "#             rolling=True,\n",
    "#             transform=True,\n",
    "#             ff_index=[])\n",
    "# best_svr.best_params_"
   ]
  },
  {
   "cell_type": "code",
   "execution_count": 62,
   "metadata": {},
   "outputs": [],
   "source": [
    "svr_params = {'C': 100, 'epsilon': 0.001, 'gamma': 0.0001, 'kernel': 'rbf'}"
   ]
  },
  {
   "cell_type": "code",
   "execution_count": null,
   "metadata": {},
   "outputs": [],
   "source": [
    "# with open('data/svr-fs-fixed.npy', 'wb') as f:\n",
    "#     np.save(f, np.array(svr_fs_fixed.k_feature_idx_), allow_pickle=True)"
   ]
  },
  {
   "cell_type": "code",
   "execution_count": null,
   "metadata": {},
   "outputs": [
    {
     "name": "stdout",
     "output_type": "stream",
     "text": [
      "X_train:  (69008, 76)\n",
      "X_test:  (0,)\n",
      "y_train:  (69008,)\n",
      "y_test:  (0,)\n",
      "Preprocessing done!\n",
      "Training done!\n"
     ]
    }
   ],
   "source": [
    "svr_model_0110 = run(df=oxford_data, \n",
    "            nb_lookback_days=30, \n",
    "            nb_lookback_months=20, \n",
    "            test_months=0, \n",
    "            model=SVR(**svr_params), \n",
    "            inspect=False, \n",
    "            graph=False, \n",
    "            rolling=True,\n",
    "            transform=True,\n",
    "            ff_index=[])\n",
    "save_model('svr_model_0110', svr_model_0110)"
   ]
  },
  {
   "cell_type": "code",
   "execution_count": null,
   "metadata": {},
   "outputs": [],
   "source": [
    "# svr_model_1110 = run(df=oxford_data, \n",
    "#             nb_lookback_days=30, \n",
    "#             nb_lookback_months=20, \n",
    "#             test_months=0, \n",
    "#             model=SVR(**svr_params), \n",
    "#             inspect=False, \n",
    "#             graph=False, \n",
    "#             static=True, \n",
    "#             rolling=True,\n",
    "#             transform=True,\n",
    "#             ff_index=[])\n",
    "# save_model('svr_model_1110', svr_model_1110)"
   ]
  },
  {
   "cell_type": "code",
   "execution_count": null,
   "metadata": {},
   "outputs": [],
   "source": [
    "svr_model_0110_6 = run(df=oxford_data, \n",
    "            nb_lookback_days=30, \n",
    "            nb_lookback_months=6, \n",
    "            test_months=0, \n",
    "            model=SVR(**svr_params), \n",
    "            inspect=False, \n",
    "            graph=False, \n",
    "            rolling=True,\n",
    "            transform=True,\n",
    "            ff_index=[])\n",
    "save_model('svr_model_0110_6', svr_model_0110_6)"
   ]
  },
  {
   "cell_type": "code",
   "execution_count": null,
   "metadata": {},
   "outputs": [],
   "source": [
    "# svr_model_1110_6 = run(df=oxford_data, \n",
    "#             nb_lookback_days=30, \n",
    "#             nb_lookback_months=6, \n",
    "#             test_months=0, \n",
    "#             model=SVR(**svr_params), \n",
    "#             inspect=False, \n",
    "#             graph=False, \n",
    "#             static=True, \n",
    "#             rolling=True,\n",
    "#             transform=True,\n",
    "#             ff_index=[])\n",
    "# save_model('svr_model_1110_6', svr_model_1110_6)"
   ]
  },
  {
   "cell_type": "code",
   "execution_count": null,
   "metadata": {},
   "outputs": [],
   "source": [
    "svr_model_0110_2 = run(df=oxford_data, \n",
    "            nb_lookback_days=30, \n",
    "            nb_lookback_months=2, \n",
    "            test_months=0, \n",
    "            model=SVR(**svr_params), \n",
    "            inspect=False, \n",
    "            graph=False, \n",
    "            rolling=True,\n",
    "            transform=True,\n",
    "            ff_index=[])\n",
    "save_model('svr_model_0110_2', svr_model_0110_2)"
   ]
  },
  {
   "cell_type": "code",
   "execution_count": null,
   "metadata": {},
   "outputs": [],
   "source": [
    "svr_model_0010 = run(df=oxford_data, \n",
    "            nb_lookback_days=30, \n",
    "            nb_lookback_months=20, \n",
    "            test_months=0, \n",
    "            model=SVR(**svr_params), \n",
    "            inspect=False, \n",
    "            graph=False, \n",
    "            rolling=False,\n",
    "            transform=True,\n",
    "            ff_index=[])\n",
    "save_model('svr_model_0010', svr_model_0010)"
   ]
  },
  {
   "cell_type": "code",
   "execution_count": null,
   "metadata": {},
   "outputs": [],
   "source": [
    "svr_model_0010_6 = run(df=oxford_data, \n",
    "            nb_lookback_days=30, \n",
    "            nb_lookback_months=6, \n",
    "            test_months=0, \n",
    "            model=SVR(**svr_params), \n",
    "            inspect=False, \n",
    "            graph=False, \n",
    "            rolling=False,\n",
    "            transform=True,\n",
    "            ff_index=[])\n",
    "save_model('svr_model_0010_6', svr_model_0010_6)"
   ]
  },
  {
   "cell_type": "code",
   "execution_count": null,
   "metadata": {},
   "outputs": [],
   "source": [
    "svr_model_0010_2 = run(df=oxford_data, \n",
    "            nb_lookback_days=30, \n",
    "            nb_lookback_months=2, \n",
    "            test_months=0, \n",
    "            model=SVR(**svr_params), \n",
    "            inspect=False, \n",
    "            graph=False, \n",
    "            rolling=False,\n",
    "            transform=True,\n",
    "            ff_index=[])\n",
    "save_model('svr_model_0010_2', svr_model_0010_2)"
   ]
  },
  {
   "cell_type": "code",
   "execution_count": null,
   "metadata": {},
   "outputs": [],
   "source": [
    "svr_model_0100 = run(df=oxford_data, \n",
    "            nb_lookback_days=30, \n",
    "            nb_lookback_months=20, \n",
    "            test_months=0, \n",
    "            model=SVR(**svr_params), \n",
    "            inspect=False, \n",
    "            graph=False, \n",
    "            rolling=True,\n",
    "            transform=False,\n",
    "            ff_index=[])\n",
    "save_model('svr_model_0100', svr_model_0100)"
   ]
  },
  {
   "cell_type": "code",
   "execution_count": null,
   "metadata": {},
   "outputs": [],
   "source": [
    "svr_model_0100_6 = run(df=oxford_data, \n",
    "            nb_lookback_days=30, \n",
    "            nb_lookback_months=6, \n",
    "            test_months=0, \n",
    "            model=SVR(**svr_params), \n",
    "            inspect=False, \n",
    "            graph=False, \n",
    "            rolling=True,\n",
    "            transform=False,\n",
    "            ff_index=[])\n",
    "save_model('svr_model_0100_6', svr_model_0100_6)"
   ]
  },
  {
   "cell_type": "code",
   "execution_count": null,
   "metadata": {},
   "outputs": [],
   "source": [
    "svr_model_0100_2 = run(df=oxford_data, \n",
    "            nb_lookback_days=30, \n",
    "            nb_lookback_months=2, \n",
    "            test_months=0, \n",
    "            model=SVR(**svr_params), \n",
    "            inspect=False, \n",
    "            graph=False, \n",
    "            rolling=True,\n",
    "            transform=False,\n",
    "            ff_index=[])\n",
    "save_model('svr_model_0100_2', svr_model_0100_2)"
   ]
  },
  {
   "cell_type": "markdown",
   "metadata": {},
   "source": [
    "## MLP"
   ]
  },
  {
   "cell_type": "code",
   "execution_count": 28,
   "metadata": {},
   "outputs": [
    {
     "name": "stdout",
     "output_type": "stream",
     "text": [
      "X_train:  (69008, 76)\n",
      "X_test:  (0,)\n",
      "y_train:  (69008,)\n",
      "y_test:  (0,)\n",
      "Preprocessing done!\n",
      "Training done!\n",
      "Train MAE: 363.7796121274199\n"
     ]
    }
   ],
   "source": [
    "mlp = MLPRegressor(random_state=1, max_iter=1000, tol=0.0001)\n",
    "mlp_model_0110 = run(df=oxford_data, \n",
    "            nb_lookback_days=30, \n",
    "            nb_lookback_months=20, \n",
    "            test_months=0, \n",
    "            model=mlp, \n",
    "            inspect=False, \n",
    "            graph=False, \n",
    "            rolling=True,\n",
    "            transform=True,\n",
    "            ff_index=[])\n",
    "save_model('mlp_model_0110', mlp_model_0110)"
   ]
  },
  {
   "cell_type": "code",
   "execution_count": 29,
   "metadata": {},
   "outputs": [
    {
     "name": "stdout",
     "output_type": "stream",
     "text": [
      "X_train:  (34050, 76)\n",
      "X_test:  (0,)\n",
      "y_train:  (34050,)\n",
      "y_test:  (0,)\n",
      "Preprocessing done!\n",
      "Training done!\n",
      "Train MAE: 587.4885922072787\n"
     ]
    }
   ],
   "source": [
    "mlp = MLPRegressor(random_state=1, max_iter=1000, tol=0.0001)\n",
    "mlp_model_0110_6 = run(df=oxford_data, \n",
    "            nb_lookback_days=30, \n",
    "            nb_lookback_months=6, \n",
    "            test_months=0, \n",
    "            model=mlp, \n",
    "            inspect=False, \n",
    "            graph=False, \n",
    "            rolling=True,\n",
    "            transform=True,\n",
    "            ff_index=[])\n",
    "save_model('mlp_model_0110_6', mlp_model_0110_6)"
   ]
  },
  {
   "cell_type": "code",
   "execution_count": 30,
   "metadata": {},
   "outputs": [
    {
     "name": "stdout",
     "output_type": "stream",
     "text": [
      "X_train:  (6810, 76)\n",
      "X_test:  (0,)\n",
      "y_train:  (6810,)\n",
      "y_test:  (0,)\n",
      "Preprocessing done!\n",
      "Training done!\n",
      "Train MAE: 1399.8875660281856\n"
     ]
    }
   ],
   "source": [
    "mlp = MLPRegressor(random_state=9, max_iter=1000, tol=0.0001)\n",
    "mlp_model_0110_2 = run(df=oxford_data, \n",
    "            nb_lookback_days=30, \n",
    "            nb_lookback_months=2, \n",
    "            test_months=0, \n",
    "            model=mlp, \n",
    "            inspect=False, \n",
    "            graph=False, \n",
    "            rolling=True,\n",
    "            transform=True,\n",
    "            ff_index=[])\n",
    "save_model('mlp_model_0110_2', mlp_model_0110_2)"
   ]
  },
  {
   "cell_type": "markdown",
   "metadata": {},
   "source": [
    "## XGB"
   ]
  },
  {
   "cell_type": "code",
   "execution_count": 31,
   "metadata": {},
   "outputs": [
    {
     "name": "stdout",
     "output_type": "stream",
     "text": [
      "Requirement already satisfied: xgboost in c:\\users\\kaush\\onedrive\\desktop\\usc classes\\cs499\\usc-xprize-covid\\xprize\\lib\\site-packages (1.3.0.post0)\n"
     ]
    },
    {
     "name": "stderr",
     "output_type": "stream",
     "text": [
      "WARNING: You are using pip version 19.2.3, however version 20.3.3 is available.\n",
      "You should consider upgrading via the 'python -m pip install --upgrade pip' command.\n"
     ]
    },
    {
     "name": "stdout",
     "output_type": "stream",
     "text": [
      "Requirement already satisfied: numpy in c:\\users\\kaush\\onedrive\\desktop\\usc classes\\cs499\\usc-xprize-covid\\xprize\\lib\\site-packages (from xgboost) (1.18.5)\n",
      "Requirement already satisfied: scipy in c:\\users\\kaush\\onedrive\\desktop\\usc classes\\cs499\\usc-xprize-covid\\xprize\\lib\\site-packages (from xgboost) (1.5.2)\n"
     ]
    }
   ],
   "source": []
  },
  {
   "cell_type": "code",
   "execution_count": 38,
   "metadata": {},
   "outputs": [
    {
     "name": "stdout",
     "output_type": "stream",
     "text": [
      "X_train:  (69008, 76)\n",
      "X_test:  (0,)\n",
      "y_train:  (69008,)\n",
      "y_test:  (0,)\n",
      "Preprocessing done!\n",
      "Fitting 3 folds for each of 200 candidates, totalling 600 fits\n"
     ]
    },
    {
     "name": "stderr",
     "output_type": "stream",
     "text": [
      "[Parallel(n_jobs=-1)]: Using backend LokyBackend with 8 concurrent workers.\n",
      "[Parallel(n_jobs=-1)]: Done  25 tasks      | elapsed:  2.0min\n",
      "[Parallel(n_jobs=-1)]: Done 146 tasks      | elapsed: 11.5min\n",
      "[Parallel(n_jobs=-1)]: Done 349 tasks      | elapsed: 24.8min\n",
      "[Parallel(n_jobs=-1)]: Done 600 out of 600 | elapsed: 41.3min finished\n",
      "c:\\users\\kaush\\onedrive\\desktop\\usc classes\\cs499\\usc-xprize-covid\\xprize\\lib\\site-packages\\xgboost\\data.py:104: UserWarning: Use subset (sliced data) of np.ndarray is not recommended because it will generate extra copies and increase memory consumption\n",
      "  warnings.warn(\n"
     ]
    },
    {
     "name": "stdout",
     "output_type": "stream",
     "text": [
      "Training done!\n"
     ]
    },
    {
     "data": {
      "text/plain": [
       "{'colsample_bytree': 0.7086348028940016,\n",
       " 'gamma': 0.3775686278368095,\n",
       " 'learning_rate': 0.2160928654060394,\n",
       " 'max_depth': 3,\n",
       " 'n_estimators': 110,\n",
       " 'subsample': 0.6851856646035643}"
      ]
     },
     "execution_count": 38,
     "metadata": {},
     "output_type": "execute_result"
    }
   ],
   "source": [
    "xgb_rsc = RandomizedSearchCV(XGBRegressor(), param_distributions={\n",
    "            \"colsample_bytree\": uniform(0.7, 0.3),\n",
    "            \"gamma\": uniform(0, 0.5),\n",
    "            \"learning_rate\": uniform(0.03, 0.3), # default 0.1 \n",
    "            \"max_depth\": randint(2, 6), # default 3\n",
    "            \"n_estimators\": randint(100, 150), # default 100\n",
    "            \"subsample\": uniform(0.6, 0.4)\n",
    "        }, random_state=42, n_iter=200, cv=3, scoring='neg_mean_squared_error', verbose=2, n_jobs=-1)\n",
    "best_xgb = grid_search(df=oxford_data, \n",
    "            nb_lookback_days=30, \n",
    "            nb_lookback_months=20, \n",
    "            test_months=0, \n",
    "            model=xgb_rsc, \n",
    "            rolling=True,\n",
    "            transform=True,\n",
    "            ff_index=[])\n",
    "best_xgb.best_params_"
   ]
  },
  {
   "cell_type": "code",
   "execution_count": 40,
   "metadata": {},
   "outputs": [],
   "source": [
    "xgb_params = {'colsample_bytree': 0.7086348028940016,\n",
    " 'gamma': 0.3775686278368095,\n",
    " 'learning_rate': 0.2160928654060394,\n",
    " 'max_depth': 3,\n",
    " 'n_estimators': 110,\n",
    " 'subsample': 0.6851856646035643}\n",
    "xgb_model = XGBRegressor(**xgb_params)"
   ]
  },
  {
   "cell_type": "code",
   "execution_count": 44,
   "metadata": {},
   "outputs": [
    {
     "name": "stdout",
     "output_type": "stream",
     "text": [
      "X_train:  (69008, 76)\n",
      "X_test:  (0,)\n",
      "y_train:  (69008,)\n",
      "y_test:  (0,)\n",
      "Preprocessing done!\n",
      "Training done!\n",
      "Train MAE: 367.07258092420494\n",
      "X_train:  (34050, 76)\n",
      "X_test:  (0,)\n",
      "y_train:  (34050,)\n",
      "y_test:  (0,)\n",
      "Preprocessing done!\n",
      "Training done!\n",
      "Train MAE: 617.0427116953977\n",
      "X_train:  (6810, 76)\n",
      "X_test:  (0,)\n",
      "y_train:  (6810,)\n",
      "y_test:  (0,)\n",
      "Preprocessing done!\n",
      "Training done!\n",
      "Train MAE: 1414.8476179352992\n"
     ]
    }
   ],
   "source": [
    "xgb_model_0100 = run(df=oxford_data, \n",
    "            nb_lookback_days=30, \n",
    "            nb_lookback_months=20, \n",
    "            test_months=0, \n",
    "            model=xgb_model, \n",
    "            inspect=False, \n",
    "            graph=False, \n",
    "            rolling=True,\n",
    "            transform=False,\n",
    "            ff_index=[])\n",
    "save_model('xgb_model_0100', xgb_model_0100)\n",
    "xgb_model_0100_6 = run(df=oxford_data, \n",
    "            nb_lookback_days=30, \n",
    "            nb_lookback_months=6, \n",
    "            test_months=0, \n",
    "            model=xgb_model, \n",
    "            inspect=False, \n",
    "            graph=False, \n",
    "            rolling=True,\n",
    "            transform=False,\n",
    "            ff_index=[])\n",
    "save_model('xgb_model_0100_6', xgb_model_0100_6)\n",
    "xgb_model_0100_2 = run(df=oxford_data, \n",
    "            nb_lookback_days=30, \n",
    "            nb_lookback_months=2, \n",
    "            test_months=0, \n",
    "            model=xgb_model, \n",
    "            inspect=False, \n",
    "            graph=False, \n",
    "            rolling=True,\n",
    "            transform=False,\n",
    "            ff_index=[])\n",
    "save_model('xgb_model_0100_2', xgb_model_0100_2)"
   ]
  },
  {
   "cell_type": "code",
   "execution_count": 45,
   "metadata": {},
   "outputs": [
    {
     "name": "stdout",
     "output_type": "stream",
     "text": [
      "X_train:  (69008, 76)\n",
      "X_test:  (0,)\n",
      "y_train:  (69008,)\n",
      "y_test:  (0,)\n",
      "Preprocessing done!\n"
     ]
    },
    {
     "name": "stderr",
     "output_type": "stream",
     "text": [
      "c:\\users\\kaush\\onedrive\\desktop\\usc classes\\cs499\\usc-xprize-covid\\xprize\\lib\\site-packages\\xgboost\\data.py:104: UserWarning: Use subset (sliced data) of np.ndarray is not recommended because it will generate extra copies and increase memory consumption\n",
      "  warnings.warn(\n"
     ]
    },
    {
     "name": "stdout",
     "output_type": "stream",
     "text": [
      "Training done!\n",
      "Train MAE: 1536.9815728100275\n",
      "X_train:  (34050, 76)\n",
      "X_test:  (0,)\n",
      "y_train:  (34050,)\n",
      "y_test:  (0,)\n",
      "Preprocessing done!\n"
     ]
    },
    {
     "name": "stderr",
     "output_type": "stream",
     "text": [
      "c:\\users\\kaush\\onedrive\\desktop\\usc classes\\cs499\\usc-xprize-covid\\xprize\\lib\\site-packages\\xgboost\\data.py:104: UserWarning: Use subset (sliced data) of np.ndarray is not recommended because it will generate extra copies and increase memory consumption\n",
      "  warnings.warn(\n"
     ]
    },
    {
     "name": "stdout",
     "output_type": "stream",
     "text": [
      "Training done!\n",
      "Train MAE: 2736.0938143602725\n",
      "X_train:  (6810, 76)\n",
      "X_test:  (0,)\n",
      "y_train:  (6810,)\n",
      "y_test:  (0,)\n",
      "Preprocessing done!\n"
     ]
    },
    {
     "name": "stderr",
     "output_type": "stream",
     "text": [
      "c:\\users\\kaush\\onedrive\\desktop\\usc classes\\cs499\\usc-xprize-covid\\xprize\\lib\\site-packages\\xgboost\\data.py:104: UserWarning: Use subset (sliced data) of np.ndarray is not recommended because it will generate extra copies and increase memory consumption\n",
      "  warnings.warn(\n"
     ]
    },
    {
     "name": "stdout",
     "output_type": "stream",
     "text": [
      "Training done!\n",
      "Train MAE: 5656.473752969302\n"
     ]
    }
   ],
   "source": [
    "xgb_model_0010 = run(df=oxford_data, \n",
    "            nb_lookback_days=30, \n",
    "            nb_lookback_months=20, \n",
    "            test_months=0, \n",
    "            model=xgb_model, \n",
    "            inspect=False, \n",
    "            graph=False, \n",
    "            rolling=False,\n",
    "            transform=True,\n",
    "            ff_index=[])\n",
    "save_model('xgb_model_0010', xgb_model_0010)\n",
    "xgb_model_0010_6 = run(df=oxford_data, \n",
    "            nb_lookback_days=30, \n",
    "            nb_lookback_months=6, \n",
    "            test_months=0, \n",
    "            model=xgb_model, \n",
    "            inspect=False, \n",
    "            graph=False, \n",
    "            rolling=False,\n",
    "            transform=True,\n",
    "            ff_index=[])\n",
    "save_model('xgb_model_0010_6', xgb_model_0010_6)\n",
    "xgb_model_0010_2 = run(df=oxford_data, \n",
    "            nb_lookback_days=30, \n",
    "            nb_lookback_months=2, \n",
    "            test_months=0, \n",
    "            model=xgb_model, \n",
    "            inspect=False, \n",
    "            graph=False, \n",
    "            rolling=False,\n",
    "            transform=True,\n",
    "            ff_index=[])\n",
    "save_model('xgb_model_0010_2', xgb_model_0010_2)"
   ]
  },
  {
   "cell_type": "code",
   "execution_count": 46,
   "metadata": {
    "scrolled": true
   },
   "outputs": [
    {
     "name": "stdout",
     "output_type": "stream",
     "text": [
      "X_train:  (69008, 76)\n",
      "X_test:  (0,)\n",
      "y_train:  (69008,)\n",
      "y_test:  (0,)\n",
      "Preprocessing done!\n"
     ]
    },
    {
     "name": "stderr",
     "output_type": "stream",
     "text": [
      "c:\\users\\kaush\\onedrive\\desktop\\usc classes\\cs499\\usc-xprize-covid\\xprize\\lib\\site-packages\\xgboost\\data.py:104: UserWarning: Use subset (sliced data) of np.ndarray is not recommended because it will generate extra copies and increase memory consumption\n",
      "  warnings.warn(\n"
     ]
    },
    {
     "name": "stdout",
     "output_type": "stream",
     "text": [
      "Training done!\n",
      "Train MAE: 362.2736532687223\n",
      "X_train:  (34050, 76)\n",
      "X_test:  (0,)\n",
      "y_train:  (34050,)\n",
      "y_test:  (0,)\n",
      "Preprocessing done!\n"
     ]
    },
    {
     "name": "stderr",
     "output_type": "stream",
     "text": [
      "c:\\users\\kaush\\onedrive\\desktop\\usc classes\\cs499\\usc-xprize-covid\\xprize\\lib\\site-packages\\xgboost\\data.py:104: UserWarning: Use subset (sliced data) of np.ndarray is not recommended because it will generate extra copies and increase memory consumption\n",
      "  warnings.warn(\n"
     ]
    },
    {
     "name": "stdout",
     "output_type": "stream",
     "text": [
      "Training done!\n",
      "Train MAE: 637.377412772689\n",
      "X_train:  (6810, 76)\n",
      "X_test:  (0,)\n",
      "y_train:  (6810,)\n",
      "y_test:  (0,)\n",
      "Preprocessing done!\n"
     ]
    },
    {
     "name": "stderr",
     "output_type": "stream",
     "text": [
      "c:\\users\\kaush\\onedrive\\desktop\\usc classes\\cs499\\usc-xprize-covid\\xprize\\lib\\site-packages\\xgboost\\data.py:104: UserWarning: Use subset (sliced data) of np.ndarray is not recommended because it will generate extra copies and increase memory consumption\n",
      "  warnings.warn(\n"
     ]
    },
    {
     "name": "stdout",
     "output_type": "stream",
     "text": [
      "Training done!\n",
      "Train MAE: 1523.9437317450688\n"
     ]
    }
   ],
   "source": [
    "xgb_model_0110 = run(df=oxford_data, \n",
    "            nb_lookback_days=30, \n",
    "            nb_lookback_months=20, \n",
    "            test_months=0, \n",
    "            model=xgb_model, \n",
    "            inspect=False, \n",
    "            graph=False, \n",
    "            rolling=True,\n",
    "            transform=True,\n",
    "            ff_index=[])\n",
    "save_model('xgb_model_0110', xgb_model_0110)\n",
    "xgb_model_0110_6 = run(df=oxford_data, \n",
    "            nb_lookback_days=30, \n",
    "            nb_lookback_months=6, \n",
    "            test_months=0, \n",
    "            model=xgb_model, \n",
    "            inspect=False, \n",
    "            graph=False, \n",
    "            rolling=True,\n",
    "            transform=True,\n",
    "            ff_index=[])\n",
    "save_model('xgb_model_0110_6', xgb_model_0110_6)\n",
    "xgb_model_0110_2 = run(df=oxford_data, \n",
    "            nb_lookback_days=30, \n",
    "            nb_lookback_months=2, \n",
    "            test_months=0, \n",
    "            model=xgb_model, \n",
    "            inspect=False, \n",
    "            graph=False, \n",
    "            rolling=True,\n",
    "            transform=True,\n",
    "            ff_index=[])\n",
    "save_model('xgb_model_0110_2', xgb_model_0110_2)"
   ]
  },
  {
   "cell_type": "markdown",
   "metadata": {},
   "source": [
    "##GBR"
   ]
  },
  {
   "cell_type": "code",
   "execution_count": null,
   "metadata": {},
   "outputs": [
    {
     "name": "stdout",
     "output_type": "stream",
     "text": [
      "X_train:  (69008, 76)\n",
      "X_test:  (0,)\n",
      "y_train:  (69008,)\n",
      "y_test:  (0,)\n",
      "Preprocessing done!\n",
      "Fitting 2 folds for each of 108 candidates, totalling 216 fits\n"
     ]
    },
    {
     "name": "stderr",
     "output_type": "stream",
     "text": [
      "[Parallel(n_jobs=-1)]: Using backend LokyBackend with 8 concurrent workers.\n"
     ]
    }
   ],
   "source": [
    "gbr_gsc = GridSearchCV(\n",
    "        estimator=GradientBoostingRegressor(),\n",
    "        param_grid = {\n",
    "            'max_depth': [25, 50, 100],\n",
    "            'max_features': ['auto','log2'],\n",
    "            'min_samples_leaf': [5, 10, None],\n",
    "            'min_samples_split': [8, 12],\n",
    "            'n_estimators': [100, 300, 1000]\n",
    "        },\n",
    "        cv=2, scoring='neg_mean_squared_error', verbose=2, n_jobs=-1)\n",
    "best_svr = grid_search(df=oxford_data, \n",
    "            nb_lookback_days=30, \n",
    "            nb_lookback_months=20, \n",
    "            test_months=0, \n",
    "            model=gbr_gsc, \n",
    "            rolling=True,\n",
    "            transform=True,\n",
    "            ff_index=[])\n",
    "best_svr.best_params_"
   ]
  },
  {
   "cell_type": "code",
   "execution_count": 24,
   "metadata": {
    "scrolled": true
   },
   "outputs": [],
   "source": [
    "gbr_params = {'max_depth': 25,\n",
    " 'max_features': 'auto',\n",
    " 'min_samples_leaf': 10,\n",
    " 'min_samples_split': 8,\n",
    " 'n_estimators': 100\n",
    "}\n",
    "gbr_model = GradientBoostingRegressor(**gbr_params)"
   ]
  },
  {
   "cell_type": "code",
   "execution_count": 25,
   "metadata": {},
   "outputs": [
    {
     "name": "stdout",
     "output_type": "stream",
     "text": [
      "X_train:  (69008, 76)\n",
      "X_test:  (0,)\n",
      "y_train:  (69008,)\n",
      "y_test:  (0,)\n",
      "Preprocessing done!\n",
      "Training done!\n",
      "Train MAE: 232.6837213102648\n",
      "X_train:  (34050, 76)\n",
      "X_test:  (0,)\n",
      "y_train:  (34050,)\n",
      "y_test:  (0,)\n",
      "Preprocessing done!\n",
      "Training done!\n",
      "Train MAE: 437.84881458435086\n",
      "X_train:  (6810, 76)\n",
      "X_test:  (0,)\n",
      "y_train:  (6810,)\n",
      "y_test:  (0,)\n",
      "Preprocessing done!\n",
      "Training done!\n",
      "Train MAE: 1167.3899993812831\n"
     ]
    }
   ],
   "source": [
    "gbr_model_0110 = run(df=oxford_data, \n",
    "            nb_lookback_days=30, \n",
    "            nb_lookback_months=20, \n",
    "            test_months=0, \n",
    "            model=gbr_model, \n",
    "            inspect=False, \n",
    "            graph=False, \n",
    "            rolling=True,\n",
    "            transform=True,\n",
    "            ff_index=[])\n",
    "save_model('gbr_model_0110', gbr_model_0110)\n",
    "gbr_model_0110_6 = run(df=oxford_data, \n",
    "            nb_lookback_days=30, \n",
    "            nb_lookback_months=6, \n",
    "            test_months=0, \n",
    "            model=gbr_model, \n",
    "            inspect=False, \n",
    "            graph=False, \n",
    "            rolling=True,\n",
    "            transform=True,\n",
    "            ff_index=[])\n",
    "save_model('gbr_model_0110_6', gbr_model_0110_6)\n",
    "gbr_model_0110_2 = run(df=oxford_data, \n",
    "            nb_lookback_days=30, \n",
    "            nb_lookback_months=2, \n",
    "            test_months=0, \n",
    "            model=gbr_model, \n",
    "            inspect=False, \n",
    "            graph=False, \n",
    "            rolling=True,\n",
    "            transform=True,\n",
    "            ff_index=[])\n",
    "save_model('gbr_model_0110_2', gbr_model_0110_2)"
   ]
  },
  {
   "cell_type": "code",
   "execution_count": 26,
   "metadata": {},
   "outputs": [
    {
     "name": "stdout",
     "output_type": "stream",
     "text": [
      "X_train:  (69008, 76)\n",
      "X_test:  (0,)\n",
      "y_train:  (69008,)\n",
      "y_test:  (0,)\n",
      "Preprocessing done!\n",
      "Training done!\n",
      "Train MAE: 232.6837213102612\n",
      "X_train:  (34050, 76)\n",
      "X_test:  (0,)\n",
      "y_train:  (34050,)\n",
      "y_test:  (0,)\n",
      "Preprocessing done!\n",
      "Training done!\n",
      "Train MAE: 437.8488145843511\n",
      "X_train:  (6810, 76)\n",
      "X_test:  (0,)\n",
      "y_train:  (6810,)\n",
      "y_test:  (0,)\n",
      "Preprocessing done!\n",
      "Training done!\n",
      "Train MAE: 1165.7437832964933\n"
     ]
    }
   ],
   "source": [
    "gbr_model_0100 = run(df=oxford_data, \n",
    "            nb_lookback_days=30, \n",
    "            nb_lookback_months=20, \n",
    "            test_months=0, \n",
    "            model=gbr_model, \n",
    "            inspect=False, \n",
    "            graph=False, \n",
    "            rolling=True,\n",
    "            transform=False,\n",
    "            ff_index=[])\n",
    "save_model('gbr_model_0100', gbr_model_0100)\n",
    "gbr_model_0100_6 = run(df=oxford_data, \n",
    "            nb_lookback_days=30, \n",
    "            nb_lookback_months=6, \n",
    "            test_months=0, \n",
    "            model=gbr_model, \n",
    "            inspect=False, \n",
    "            graph=False, \n",
    "            rolling=True,\n",
    "            transform=False,\n",
    "            ff_index=[])\n",
    "save_model('gbr_model_0100_6', gbr_model_0100_6)\n",
    "gbr_model_0100_2 = run(df=oxford_data, \n",
    "            nb_lookback_days=30, \n",
    "            nb_lookback_months=2, \n",
    "            test_months=0, \n",
    "            model=gbr_model, \n",
    "            inspect=False, \n",
    "            graph=False, \n",
    "            rolling=True,\n",
    "            transform=False,\n",
    "            ff_index=[])\n",
    "save_model('gbr_model_0100_2', gbr_model_0100_2)"
   ]
  },
  {
   "cell_type": "code",
   "execution_count": 27,
   "metadata": {},
   "outputs": [
    {
     "name": "stdout",
     "output_type": "stream",
     "text": [
      "X_train:  (69008, 76)\n",
      "X_test:  (0,)\n",
      "y_train:  (69008,)\n",
      "y_test:  (0,)\n",
      "Preprocessing done!\n",
      "Training done!\n",
      "Train MAE: 1240.200793056475\n",
      "X_train:  (34050, 76)\n",
      "X_test:  (0,)\n",
      "y_train:  (34050,)\n",
      "y_test:  (0,)\n",
      "Preprocessing done!\n",
      "Training done!\n",
      "Train MAE: 2254.4333230727707\n",
      "X_train:  (6810, 76)\n",
      "X_test:  (0,)\n",
      "y_train:  (6810,)\n",
      "y_test:  (0,)\n",
      "Preprocessing done!\n",
      "Training done!\n",
      "Train MAE: 5374.398969653273\n"
     ]
    }
   ],
   "source": [
    "gbr_model_0010 = run(df=oxford_data, \n",
    "            nb_lookback_days=30, \n",
    "            nb_lookback_months=20, \n",
    "            test_months=0, \n",
    "            model=gbr_model, \n",
    "            inspect=False, \n",
    "            graph=False, \n",
    "            rolling=False,\n",
    "            transform=True,\n",
    "            ff_index=[])\n",
    "save_model('gbr_model_0010', gbr_model_0010)\n",
    "gbr_model_0010_6 = run(df=oxford_data, \n",
    "            nb_lookback_days=30, \n",
    "            nb_lookback_months=6, \n",
    "            test_months=0, \n",
    "            model=gbr_model, \n",
    "            inspect=False, \n",
    "            graph=False, \n",
    "            rolling=False,\n",
    "            transform=True,\n",
    "            ff_index=[])\n",
    "save_model('gbr_model_0010_6', gbr_model_0010_6)\n",
    "gbr_model_0010_2 = run(df=oxford_data, \n",
    "            nb_lookback_days=30, \n",
    "            nb_lookback_months=2, \n",
    "            test_months=0, \n",
    "            model=gbr_model, \n",
    "            inspect=False, \n",
    "            graph=False, \n",
    "            rolling=False,\n",
    "            transform=True,\n",
    "            ff_index=[])\n",
    "save_model('gbr_model_0010_2', gbr_model_0010_2)"
   ]
  },
  {
   "cell_type": "code",
   "execution_count": 33,
   "metadata": {},
   "outputs": [],
   "source": [
    "# model = run(oxford_data, 14, 20, 2, LinearRegression(), False, False, False)"
   ]
  },
  {
   "cell_type": "code",
   "execution_count": 34,
   "metadata": {},
   "outputs": [],
   "source": [
    "# model = run(oxford_data, 14, 20, 2, LinearRegression(), False, False, True)"
   ]
  },
  {
   "cell_type": "code",
   "execution_count": 35,
   "metadata": {},
   "outputs": [],
   "source": [
    "# model = run(oxford_data, 14, 5, 3, LinearRegression(), False, False, False)"
   ]
  },
  {
   "cell_type": "code",
   "execution_count": 36,
   "metadata": {},
   "outputs": [],
   "source": [
    "# model = run(oxford_data, 14, 5, 3, LinearRegression(), False, False, True)"
   ]
  },
  {
   "cell_type": "code",
   "execution_count": 37,
   "metadata": {},
   "outputs": [],
   "source": [
    "# Save model to file (this just stores whatever is the last uncommented model)\n",
    "if not os.path.exists('models'):\n",
    "    os.mkdir('models')\n",
    "with open('models/model.pkl', 'wb') as model_file:\n",
    "    pickle.dump(model, model_file)"
   ]
  },
  {
   "cell_type": "code",
   "execution_count": null,
   "metadata": {},
   "outputs": [],
   "source": []
  },
  {
   "cell_type": "markdown",
   "metadata": {},
   "source": [
    "## Evaluation\n",
    "\n",
    "Now that the predictor has been trained and saved, this section contains the functionality for evaluating it on sample evaluation data. Make changes in predict.py since that's what is called"
   ]
  },
  {
   "cell_type": "code",
   "execution_count": 5,
   "metadata": {},
   "outputs": [
    {
     "ename": "ValueError",
     "evalue": "matmul: Input operand 1 has a mismatch in its core dimension 0, with gufunc signature (n?,k),(k,m?)->(n?,m?) (size 390 is different from 76)",
     "output_type": "error",
     "traceback": [
      "\u001b[0;31m---------------------------------------------------------------------------\u001b[0m",
      "\u001b[0;31mValueError\u001b[0m                                Traceback (most recent call last)",
      "\u001b[0;32m<timed exec>\u001b[0m in \u001b[0;36m<module>\u001b[0;34m\u001b[0m\n",
      "\u001b[0;32m~/Documents/usc-xprize-covid/covid-xprize/covid_xprize/examples/predictors/linear_reg/predict.py\u001b[0m in \u001b[0;36mpredict_df\u001b[0;34m(start_date_str, end_date_str, path_to_ips_file, verbose, NB_LOOKBACK_DAYS, rolling, static)\u001b[0m\n\u001b[1;32m    271\u001b[0m \u001b[0;34m\u001b[0m\u001b[0m\n\u001b[1;32m    272\u001b[0m             \u001b[0;31m# Make the prediction (reshape so that sklearn is happy)\u001b[0m\u001b[0;34m\u001b[0m\u001b[0;34m\u001b[0m\u001b[0;34m\u001b[0m\u001b[0m\n\u001b[0;32m--> 273\u001b[0;31m             \u001b[0mpred\u001b[0m \u001b[0;34m=\u001b[0m \u001b[0mmodel\u001b[0m\u001b[0;34m.\u001b[0m\u001b[0mpredict\u001b[0m\u001b[0;34m(\u001b[0m\u001b[0mX\u001b[0m\u001b[0;34m.\u001b[0m\u001b[0mreshape\u001b[0m\u001b[0;34m(\u001b[0m\u001b[0;36m1\u001b[0m\u001b[0;34m,\u001b[0m \u001b[0;34m-\u001b[0m\u001b[0;36m1\u001b[0m\u001b[0;34m)\u001b[0m\u001b[0;34m)\u001b[0m\u001b[0;34m[\u001b[0m\u001b[0;36m0\u001b[0m\u001b[0;34m]\u001b[0m\u001b[0;34m\u001b[0m\u001b[0;34m\u001b[0m\u001b[0m\n\u001b[0m\u001b[1;32m    274\u001b[0m             \u001b[0mpred\u001b[0m \u001b[0;34m=\u001b[0m \u001b[0mmax\u001b[0m\u001b[0;34m(\u001b[0m\u001b[0;36m0\u001b[0m\u001b[0;34m,\u001b[0m \u001b[0mpred\u001b[0m\u001b[0;34m)\u001b[0m  \u001b[0;31m# Do not allow predicting negative cases\u001b[0m\u001b[0;34m\u001b[0m\u001b[0;34m\u001b[0m\u001b[0m\n\u001b[1;32m    275\u001b[0m             \u001b[0;31m# Add if it's a requested date\u001b[0m\u001b[0;34m\u001b[0m\u001b[0;34m\u001b[0m\u001b[0;34m\u001b[0m\u001b[0m\n",
      "\u001b[0;32m~/Documents/usc-xprize-covid/xprize/lib/python3.8/site-packages/sklearn/linear_model/_base.py\u001b[0m in \u001b[0;36mpredict\u001b[0;34m(self, X)\u001b[0m\n\u001b[1;32m    234\u001b[0m             \u001b[0mReturns\u001b[0m \u001b[0mpredicted\u001b[0m \u001b[0mvalues\u001b[0m\u001b[0;34m.\u001b[0m\u001b[0;34m\u001b[0m\u001b[0;34m\u001b[0m\u001b[0m\n\u001b[1;32m    235\u001b[0m         \"\"\"\n\u001b[0;32m--> 236\u001b[0;31m         \u001b[0;32mreturn\u001b[0m \u001b[0mself\u001b[0m\u001b[0;34m.\u001b[0m\u001b[0m_decision_function\u001b[0m\u001b[0;34m(\u001b[0m\u001b[0mX\u001b[0m\u001b[0;34m)\u001b[0m\u001b[0;34m\u001b[0m\u001b[0;34m\u001b[0m\u001b[0m\n\u001b[0m\u001b[1;32m    237\u001b[0m \u001b[0;34m\u001b[0m\u001b[0m\n\u001b[1;32m    238\u001b[0m     \u001b[0m_preprocess_data\u001b[0m \u001b[0;34m=\u001b[0m \u001b[0mstaticmethod\u001b[0m\u001b[0;34m(\u001b[0m\u001b[0m_preprocess_data\u001b[0m\u001b[0;34m)\u001b[0m\u001b[0;34m\u001b[0m\u001b[0;34m\u001b[0m\u001b[0m\n",
      "\u001b[0;32m~/Documents/usc-xprize-covid/xprize/lib/python3.8/site-packages/sklearn/linear_model/_base.py\u001b[0m in \u001b[0;36m_decision_function\u001b[0;34m(self, X)\u001b[0m\n\u001b[1;32m    217\u001b[0m \u001b[0;34m\u001b[0m\u001b[0m\n\u001b[1;32m    218\u001b[0m         \u001b[0mX\u001b[0m \u001b[0;34m=\u001b[0m \u001b[0mcheck_array\u001b[0m\u001b[0;34m(\u001b[0m\u001b[0mX\u001b[0m\u001b[0;34m,\u001b[0m \u001b[0maccept_sparse\u001b[0m\u001b[0;34m=\u001b[0m\u001b[0;34m[\u001b[0m\u001b[0;34m'csr'\u001b[0m\u001b[0;34m,\u001b[0m \u001b[0;34m'csc'\u001b[0m\u001b[0;34m,\u001b[0m \u001b[0;34m'coo'\u001b[0m\u001b[0;34m]\u001b[0m\u001b[0;34m)\u001b[0m\u001b[0;34m\u001b[0m\u001b[0;34m\u001b[0m\u001b[0m\n\u001b[0;32m--> 219\u001b[0;31m         return safe_sparse_dot(X, self.coef_.T,\n\u001b[0m\u001b[1;32m    220\u001b[0m                                dense_output=True) + self.intercept_\n\u001b[1;32m    221\u001b[0m \u001b[0;34m\u001b[0m\u001b[0m\n",
      "\u001b[0;32m~/Documents/usc-xprize-covid/xprize/lib/python3.8/site-packages/sklearn/utils/validation.py\u001b[0m in \u001b[0;36minner_f\u001b[0;34m(*args, **kwargs)\u001b[0m\n\u001b[1;32m     70\u001b[0m                           FutureWarning)\n\u001b[1;32m     71\u001b[0m         \u001b[0mkwargs\u001b[0m\u001b[0;34m.\u001b[0m\u001b[0mupdate\u001b[0m\u001b[0;34m(\u001b[0m\u001b[0;34m{\u001b[0m\u001b[0mk\u001b[0m\u001b[0;34m:\u001b[0m \u001b[0marg\u001b[0m \u001b[0;32mfor\u001b[0m \u001b[0mk\u001b[0m\u001b[0;34m,\u001b[0m \u001b[0marg\u001b[0m \u001b[0;32min\u001b[0m \u001b[0mzip\u001b[0m\u001b[0;34m(\u001b[0m\u001b[0msig\u001b[0m\u001b[0;34m.\u001b[0m\u001b[0mparameters\u001b[0m\u001b[0;34m,\u001b[0m \u001b[0margs\u001b[0m\u001b[0;34m)\u001b[0m\u001b[0;34m}\u001b[0m\u001b[0;34m)\u001b[0m\u001b[0;34m\u001b[0m\u001b[0;34m\u001b[0m\u001b[0m\n\u001b[0;32m---> 72\u001b[0;31m         \u001b[0;32mreturn\u001b[0m \u001b[0mf\u001b[0m\u001b[0;34m(\u001b[0m\u001b[0;34m**\u001b[0m\u001b[0mkwargs\u001b[0m\u001b[0;34m)\u001b[0m\u001b[0;34m\u001b[0m\u001b[0;34m\u001b[0m\u001b[0m\n\u001b[0m\u001b[1;32m     73\u001b[0m     \u001b[0;32mreturn\u001b[0m \u001b[0minner_f\u001b[0m\u001b[0;34m\u001b[0m\u001b[0;34m\u001b[0m\u001b[0m\n\u001b[1;32m     74\u001b[0m \u001b[0;34m\u001b[0m\u001b[0m\n",
      "\u001b[0;32m~/Documents/usc-xprize-covid/xprize/lib/python3.8/site-packages/sklearn/utils/extmath.py\u001b[0m in \u001b[0;36msafe_sparse_dot\u001b[0;34m(a, b, dense_output)\u001b[0m\n\u001b[1;32m    151\u001b[0m             \u001b[0mret\u001b[0m \u001b[0;34m=\u001b[0m \u001b[0mnp\u001b[0m\u001b[0;34m.\u001b[0m\u001b[0mdot\u001b[0m\u001b[0;34m(\u001b[0m\u001b[0ma\u001b[0m\u001b[0;34m,\u001b[0m \u001b[0mb\u001b[0m\u001b[0;34m)\u001b[0m\u001b[0;34m\u001b[0m\u001b[0;34m\u001b[0m\u001b[0m\n\u001b[1;32m    152\u001b[0m     \u001b[0;32melse\u001b[0m\u001b[0;34m:\u001b[0m\u001b[0;34m\u001b[0m\u001b[0;34m\u001b[0m\u001b[0m\n\u001b[0;32m--> 153\u001b[0;31m         \u001b[0mret\u001b[0m \u001b[0;34m=\u001b[0m \u001b[0ma\u001b[0m \u001b[0;34m@\u001b[0m \u001b[0mb\u001b[0m\u001b[0;34m\u001b[0m\u001b[0;34m\u001b[0m\u001b[0m\n\u001b[0m\u001b[1;32m    154\u001b[0m \u001b[0;34m\u001b[0m\u001b[0m\n\u001b[1;32m    155\u001b[0m     if (sparse.issparse(a) and sparse.issparse(b)\n",
      "\u001b[0;31mValueError\u001b[0m: matmul: Input operand 1 has a mismatch in its core dimension 0, with gufunc signature (n?,k),(k,m?)->(n?,m?) (size 390 is different from 76)"
     ]
    }
   ],
   "source": [
    "%%time\n",
    "# Reload the module to get the latest changes\n",
    "import predict\n",
    "from importlib import reload\n",
    "reload(predict)\n",
    "from predict import predict_df\n",
    "# doesnt work for non american regions rn because of different data sizes.. or \n",
    "preds_df = predict_df(\"2020-08-01\", \"2020-08-31\", path_to_ips_file=\"../../../validation/data/2020-09-30_historical_ip.csv\",\n",
    "                      verbose=False, NB_LOOKBACK_DAYS=30, rolling=False, static=False)"
   ]
  },
  {
   "cell_type": "code",
   "execution_count": 39,
   "metadata": {},
   "outputs": [
    {
     "data": {
      "text/html": [
       "<div>\n",
       "<style scoped>\n",
       "    .dataframe tbody tr th:only-of-type {\n",
       "        vertical-align: middle;\n",
       "    }\n",
       "\n",
       "    .dataframe tbody tr th {\n",
       "        vertical-align: top;\n",
       "    }\n",
       "\n",
       "    .dataframe thead th {\n",
       "        text-align: right;\n",
       "    }\n",
       "</style>\n",
       "<table border=\"1\" class=\"dataframe\">\n",
       "  <thead>\n",
       "    <tr style=\"text-align: right;\">\n",
       "      <th></th>\n",
       "      <th>CountryName</th>\n",
       "      <th>RegionName</th>\n",
       "      <th>Date</th>\n",
       "      <th>PredictedDailyNewCases</th>\n",
       "    </tr>\n",
       "  </thead>\n",
       "  <tbody>\n",
       "    <tr>\n",
       "      <th>70109</th>\n",
       "      <td>United States</td>\n",
       "      <td>Wyoming</td>\n",
       "      <td>2020-08-27</td>\n",
       "      <td>122.037126</td>\n",
       "    </tr>\n",
       "    <tr>\n",
       "      <th>70110</th>\n",
       "      <td>United States</td>\n",
       "      <td>Wyoming</td>\n",
       "      <td>2020-08-28</td>\n",
       "      <td>140.587460</td>\n",
       "    </tr>\n",
       "    <tr>\n",
       "      <th>70111</th>\n",
       "      <td>United States</td>\n",
       "      <td>Wyoming</td>\n",
       "      <td>2020-08-29</td>\n",
       "      <td>140.587460</td>\n",
       "    </tr>\n",
       "    <tr>\n",
       "      <th>70112</th>\n",
       "      <td>United States</td>\n",
       "      <td>Wyoming</td>\n",
       "      <td>2020-08-30</td>\n",
       "      <td>140.587460</td>\n",
       "    </tr>\n",
       "    <tr>\n",
       "      <th>70113</th>\n",
       "      <td>United States</td>\n",
       "      <td>Wyoming</td>\n",
       "      <td>2020-08-31</td>\n",
       "      <td>140.587460</td>\n",
       "    </tr>\n",
       "  </tbody>\n",
       "</table>\n",
       "</div>"
      ],
      "text/plain": [
       "         CountryName RegionName       Date  PredictedDailyNewCases\n",
       "70109  United States    Wyoming 2020-08-27              122.037126\n",
       "70110  United States    Wyoming 2020-08-28              140.587460\n",
       "70111  United States    Wyoming 2020-08-29              140.587460\n",
       "70112  United States    Wyoming 2020-08-30              140.587460\n",
       "70113  United States    Wyoming 2020-08-31              140.587460"
      ]
     },
     "execution_count": 39,
     "metadata": {},
     "output_type": "execute_result"
    }
   ],
   "source": [
    "# Check the predictions\n",
    "preds_df[preds_df['CountryName']=='United States'].tail()"
   ]
  },
  {
   "cell_type": "markdown",
   "metadata": {},
   "source": [
    "# Validation\n",
    "This is how the predictor is going to be called during the competition.  \n",
    "!!! PLEASE DO NOT CHANGE THE API !!!"
   ]
  },
  {
   "cell_type": "code",
   "execution_count": 40,
   "metadata": {},
   "outputs": [
    {
     "name": "stdout",
     "output_type": "stream",
     "text": [
      "Generating predictions from 2020-08-01 to 2020-08-04...\n",
      "Saved predictions to predictions/2020-08-01_2020-08-04.csv\n",
      "Done!\n"
     ]
    }
   ],
   "source": [
    "!python predict.py -s 2020-08-01 -e 2020-08-04 -ip ../../../validation/data/2020-09-30_historical_ip.csv -o predictions/2020-08-01_2020-08-04.csv"
   ]
  },
  {
   "cell_type": "code",
   "execution_count": 41,
   "metadata": {},
   "outputs": [
    {
     "name": "stdout",
     "output_type": "stream",
     "text": [
      "CountryName,RegionName,Date,PredictedDailyNewCases\n",
      "United States,,2020-08-01,10822.52689679078\n",
      "United States,,2020-08-02,10979.357780241993\n",
      "United States,,2020-08-03,12855.58127382358\n",
      "United States,,2020-08-04,12437.213249698849\n",
      "United States,Alaska,2020-08-01,116.33170865269197\n",
      "United States,Alaska,2020-08-02,177.84448939008053\n",
      "United States,Alaska,2020-08-03,116.33170865269197\n",
      "United States,Alaska,2020-08-04,148.6404689215919\n",
      "United States,Alabama,2020-08-01,1602.8263639134095\n"
     ]
    }
   ],
   "source": [
    "!head predictions/2020-08-01_2020-08-04.csv"
   ]
  },
  {
   "cell_type": "markdown",
   "metadata": {},
   "source": [
    "# Test cases\n",
    "We can generate a prediction file. Let's validate a few cases..."
   ]
  },
  {
   "cell_type": "code",
   "execution_count": 42,
   "metadata": {},
   "outputs": [],
   "source": [
    "import os\n",
    "from covid_xprize.validation.predictor_validation import validate_submission\n",
    "\n",
    "def validate(start_date, end_date, ip_file, output_file):\n",
    "    # First, delete any potential old file\n",
    "    try:\n",
    "        os.remove(output_file)\n",
    "    except OSError:\n",
    "        pass\n",
    "    \n",
    "    # Then generate the prediction, calling the official API\n",
    "    !python predict.py -s {start_date} -e {end_date} -ip {ip_file} -o {output_file}\n",
    "    \n",
    "    # And validate it\n",
    "    errors = validate_submission(start_date, end_date, ip_file, output_file)\n",
    "    if errors:\n",
    "        for error in errors:\n",
    "            print(error)\n",
    "    else:\n",
    "        print(\"All good!\")"
   ]
  },
  {
   "cell_type": "markdown",
   "metadata": {},
   "source": [
    "## 4 days, no gap\n",
    "- All countries and regions\n",
    "- Official number of cases is known up to start_date\n",
    "- Intervention Plans are the official ones"
   ]
  },
  {
   "cell_type": "code",
   "execution_count": 43,
   "metadata": {},
   "outputs": [
    {
     "name": "stdout",
     "output_type": "stream",
     "text": [
      "Generating predictions from 2020-08-01 to 2020-08-04...\n",
      "Saved predictions to predictions/val_4_days.csv\n",
      "Done!\n",
      "Missing countries / regions: {'Kenya', 'Lithuania', 'Romania', 'Somalia', 'Brazil / Acre', 'Bosnia and Herzegovina', 'Uganda', 'Lesotho', 'Brazil / Mato Grosso do Sul', 'China', 'Chad', 'Algeria', 'Turkey', 'Bermuda', 'Oman', 'Ukraine', 'Democratic Republic of Congo', 'Brazil / Parana', 'Georgia', 'Russia', 'Niger', 'Indonesia', 'Brazil / Santa Catarina', 'Brazil / Pernambuco', 'Andorra', 'Brazil / Paraiba', 'Brazil / Maranhao', 'Belize', 'Mongolia', 'Belarus', 'Ethiopia', 'Kyrgyz Republic', 'Austria', 'Brazil / Bahia', 'Botswana', 'Panama', 'Israel', 'Taiwan', 'Italy', 'Pakistan', 'Tanzania', 'Bulgaria', 'Barbados', 'Puerto Rico', 'Moldova', 'Paraguay', 'United Kingdom / Northern Ireland', 'Djibouti', 'El Salvador', 'Brazil / Amazonas', 'Kosovo', 'Yemen', 'Congo', 'Cyprus', 'Iceland', 'Bahamas', 'Canada', 'Dominica', 'Fiji', 'Brazil / Rio Grande do Sul', 'Croatia', 'Dominican Republic', 'Trinidad and Tobago', 'Brazil / Ceara', 'Papua New Guinea', 'Poland', 'Brazil', 'Guatemala', 'Mauritania', 'Afghanistan', 'Brazil / Amapa', 'Monaco', 'Myanmar', 'Ecuador', 'India', 'Nepal', 'Malaysia', 'Cuba', 'Portugal', 'Cape Verde', 'Brazil / Rio de Janeiro', 'Brunei', 'Libya', 'Slovak Republic', 'Zambia', 'Tunisia', 'Switzerland', 'Nigeria', 'Haiti', 'Cameroon', 'Palestine', 'Brazil / Roraima', 'Guyana', 'Thailand', 'United Kingdom', 'Iran', 'Sudan', 'Brazil / Piaui', 'Kazakhstan', 'Seychelles', 'South Korea', 'Eritrea', 'Peru', 'Burkina Faso', 'Mexico', 'Sweden', 'Jordan', 'Burundi', 'Brazil / Mato Grosso', 'Zimbabwe', 'Saudi Arabia', 'Hungary', 'Gambia', 'Nicaragua', 'Brazil / Alagoas', 'Philippines', 'Namibia', 'Brazil / Goias', 'Mauritius', \"Cote d'Ivoire\", 'Slovenia', 'Cambodia', 'Vietnam', 'San Marino', 'Solomon Islands', 'Brazil / Rondonia', 'Macao', 'Lebanon', 'Faeroe Islands', 'United Arab Emirates', 'Azerbaijan', 'Brazil / Rio Grande do Norte', 'Central African Republic', 'Albania', 'Denmark', 'Costa Rica', 'Angola', 'South Sudan', 'France', 'Timor-Leste', 'Venezuela', 'Ghana', 'Brazil / Sergipe', 'Bolivia', 'Greece', 'Mozambique', 'Brazil / Espirito Santo', 'United Kingdom / Scotland', 'Argentina', 'Japan', 'United Kingdom / England', 'Czech Republic', 'Honduras', 'Norway', 'Uruguay', 'Finland', 'Comoros', 'Ireland', 'Netherlands', 'Brazil / Tocantins', 'Uzbekistan', 'Rwanda', 'Hong Kong', 'Tajikistan', 'Qatar', 'Aruba', 'Togo', 'Spain', 'Colombia', 'Brazil / Minas Gerais', 'Liberia', 'Iraq', 'Latvia', 'Serbia', 'Bangladesh', 'Sri Lanka', 'South Africa', 'Australia', 'Syria', 'Vanuatu', 'Brazil / Sao Paulo', 'Bhutan', 'United States Virgin Islands', 'United Kingdom / Wales', 'Sierra Leone', 'Kuwait', 'Guam', 'Luxembourg', 'Singapore', 'Morocco', 'Senegal', 'Egypt', 'Brazil / Para', 'Jamaica', 'Benin', 'Eswatini', 'Bahrain', 'Guinea', 'Chile', 'Mali', 'Belgium', 'Brazil / Distrito Federal', 'Madagascar', 'Turkmenistan', 'New Zealand', 'Greenland', 'Suriname', 'Germany', 'Laos', 'Malawi', 'Estonia', 'Gabon'}\n"
     ]
    }
   ],
   "source": [
    "validate(start_date=\"2020-08-01\",\n",
    "         end_date=\"2020-08-04\",\n",
    "         ip_file=\"../../../validation/data/2020-09-30_historical_ip.csv\",\n",
    "         output_file=\"predictions/val_4_days.csv\")"
   ]
  },
  {
   "cell_type": "markdown",
   "metadata": {},
   "source": [
    "## 1 month in the future\n",
    "- 2 countries only\n",
    "- there's a gap between date of last known number of cases and start_date\n",
    "- For future dates, Intervention Plans contains scenarios for which predictions are requested to answer the question: what will happen if we apply these plans?"
   ]
  },
  {
   "cell_type": "code",
   "execution_count": 44,
   "metadata": {},
   "outputs": [
    {
     "name": "stdout",
     "output_type": "stream",
     "text": [
      "Generating predictions from 2021-01-01 to 2021-01-31...\n"
     ]
    },
    {
     "name": "stderr",
     "output_type": "stream",
     "text": [
      "Traceback (most recent call last):\n",
      "  File \"predict.py\", line 330, in <module>\n",
      "    predict(args.start_date, args.end_date, args.ip_file, args.output_file)\n",
      "  File \"predict.py\", line 105, in predict\n",
      "    preds_df = predict_df(start_date, end_date, path_to_ips_file, verbose=False, NB_LOOKBACK_DAYS=nb_lookback_days, rolling=rolling, static=static)\n",
      "  File \"predict.py\", line 299, in predict_df\n",
      "    pred_df = pd.concat(geo_pred_dfs)\n",
      "  File \"C:\\Users\\kaush\\OneDrive\\Desktop\\USC Classes\\cs499\\usc-xprize-covid\\xprize\\lib\\site-packages\\pandas\\core\\reshape\\concat.py\", line 274, in concat\n",
      "    op = _Concatenator(\n",
      "  File \"C:\\Users\\kaush\\OneDrive\\Desktop\\USC Classes\\cs499\\usc-xprize-covid\\xprize\\lib\\site-packages\\pandas\\core\\reshape\\concat.py\", line 331, in __init__\n",
      "    raise ValueError(\"No objects to concatenate\")\n",
      "ValueError: No objects to concatenate\n"
     ]
    },
    {
     "ename": "FileNotFoundError",
     "evalue": "[Errno 2] No such file or directory: 'predictions/val_1_month_future.csv'",
     "output_type": "error",
     "traceback": [
      "\u001b[1;31m---------------------------------------------------------------------------\u001b[0m",
      "\u001b[1;31mFileNotFoundError\u001b[0m                         Traceback (most recent call last)",
      "\u001b[1;32m<timed eval>\u001b[0m in \u001b[0;36m<module>\u001b[1;34m\u001b[0m\n",
      "\u001b[1;32m<ipython-input-42-3b5495397496>\u001b[0m in \u001b[0;36mvalidate\u001b[1;34m(start_date, end_date, ip_file, output_file)\u001b[0m\n\u001b[0;32m     13\u001b[0m \u001b[1;33m\u001b[0m\u001b[0m\n\u001b[0;32m     14\u001b[0m     \u001b[1;31m# And validate it\u001b[0m\u001b[1;33m\u001b[0m\u001b[1;33m\u001b[0m\u001b[1;33m\u001b[0m\u001b[0m\n\u001b[1;32m---> 15\u001b[1;33m     \u001b[0merrors\u001b[0m \u001b[1;33m=\u001b[0m \u001b[0mvalidate_submission\u001b[0m\u001b[1;33m(\u001b[0m\u001b[0mstart_date\u001b[0m\u001b[1;33m,\u001b[0m \u001b[0mend_date\u001b[0m\u001b[1;33m,\u001b[0m \u001b[0mip_file\u001b[0m\u001b[1;33m,\u001b[0m \u001b[0moutput_file\u001b[0m\u001b[1;33m)\u001b[0m\u001b[1;33m\u001b[0m\u001b[1;33m\u001b[0m\u001b[0m\n\u001b[0m\u001b[0;32m     16\u001b[0m     \u001b[1;32mif\u001b[0m \u001b[0merrors\u001b[0m\u001b[1;33m:\u001b[0m\u001b[1;33m\u001b[0m\u001b[1;33m\u001b[0m\u001b[0m\n\u001b[0;32m     17\u001b[0m         \u001b[1;32mfor\u001b[0m \u001b[0merror\u001b[0m \u001b[1;32min\u001b[0m \u001b[0merrors\u001b[0m\u001b[1;33m:\u001b[0m\u001b[1;33m\u001b[0m\u001b[1;33m\u001b[0m\u001b[0m\n",
      "\u001b[1;32mc:\\users\\kaush\\onedrive\\desktop\\usc classes\\cs499\\usc-xprize-covid\\xprize\\lib\\site-packages\\covid_xprize-1.0.4-py3.8.egg\\covid_xprize\\validation\\predictor_validation.py\u001b[0m in \u001b[0;36mvalidate_submission\u001b[1;34m(start_date, end_date, ip_file, submission_file)\u001b[0m\n\u001b[0;32m     30\u001b[0m \u001b[1;33m\u001b[0m\u001b[0m\n\u001b[0;32m     31\u001b[0m     \"\"\"\n\u001b[1;32m---> 32\u001b[1;33m     pred_df = pd.read_csv(submission_file,\n\u001b[0m\u001b[0;32m     33\u001b[0m                           \u001b[0mparse_dates\u001b[0m\u001b[1;33m=\u001b[0m\u001b[1;33m[\u001b[0m\u001b[1;34m'Date'\u001b[0m\u001b[1;33m]\u001b[0m\u001b[1;33m,\u001b[0m\u001b[1;33m\u001b[0m\u001b[1;33m\u001b[0m\u001b[0m\n\u001b[0;32m     34\u001b[0m                           \u001b[0mencoding\u001b[0m\u001b[1;33m=\u001b[0m\u001b[1;34m\"ISO-8859-1\"\u001b[0m\u001b[1;33m,\u001b[0m\u001b[1;33m\u001b[0m\u001b[1;33m\u001b[0m\u001b[0m\n",
      "\u001b[1;32mc:\\users\\kaush\\onedrive\\desktop\\usc classes\\cs499\\usc-xprize-covid\\xprize\\lib\\site-packages\\pandas\\io\\parsers.py\u001b[0m in \u001b[0;36mread_csv\u001b[1;34m(filepath_or_buffer, sep, delimiter, header, names, index_col, usecols, squeeze, prefix, mangle_dupe_cols, dtype, engine, converters, true_values, false_values, skipinitialspace, skiprows, skipfooter, nrows, na_values, keep_default_na, na_filter, verbose, skip_blank_lines, parse_dates, infer_datetime_format, keep_date_col, date_parser, dayfirst, cache_dates, iterator, chunksize, compression, thousands, decimal, lineterminator, quotechar, quoting, doublequote, escapechar, comment, encoding, dialect, error_bad_lines, warn_bad_lines, delim_whitespace, low_memory, memory_map, float_precision)\u001b[0m\n\u001b[0;32m    684\u001b[0m     )\n\u001b[0;32m    685\u001b[0m \u001b[1;33m\u001b[0m\u001b[0m\n\u001b[1;32m--> 686\u001b[1;33m     \u001b[1;32mreturn\u001b[0m \u001b[0m_read\u001b[0m\u001b[1;33m(\u001b[0m\u001b[0mfilepath_or_buffer\u001b[0m\u001b[1;33m,\u001b[0m \u001b[0mkwds\u001b[0m\u001b[1;33m)\u001b[0m\u001b[1;33m\u001b[0m\u001b[1;33m\u001b[0m\u001b[0m\n\u001b[0m\u001b[0;32m    687\u001b[0m \u001b[1;33m\u001b[0m\u001b[0m\n\u001b[0;32m    688\u001b[0m \u001b[1;33m\u001b[0m\u001b[0m\n",
      "\u001b[1;32mc:\\users\\kaush\\onedrive\\desktop\\usc classes\\cs499\\usc-xprize-covid\\xprize\\lib\\site-packages\\pandas\\io\\parsers.py\u001b[0m in \u001b[0;36m_read\u001b[1;34m(filepath_or_buffer, kwds)\u001b[0m\n\u001b[0;32m    450\u001b[0m \u001b[1;33m\u001b[0m\u001b[0m\n\u001b[0;32m    451\u001b[0m     \u001b[1;31m# Create the parser.\u001b[0m\u001b[1;33m\u001b[0m\u001b[1;33m\u001b[0m\u001b[1;33m\u001b[0m\u001b[0m\n\u001b[1;32m--> 452\u001b[1;33m     \u001b[0mparser\u001b[0m \u001b[1;33m=\u001b[0m \u001b[0mTextFileReader\u001b[0m\u001b[1;33m(\u001b[0m\u001b[0mfp_or_buf\u001b[0m\u001b[1;33m,\u001b[0m \u001b[1;33m**\u001b[0m\u001b[0mkwds\u001b[0m\u001b[1;33m)\u001b[0m\u001b[1;33m\u001b[0m\u001b[1;33m\u001b[0m\u001b[0m\n\u001b[0m\u001b[0;32m    453\u001b[0m \u001b[1;33m\u001b[0m\u001b[0m\n\u001b[0;32m    454\u001b[0m     \u001b[1;32mif\u001b[0m \u001b[0mchunksize\u001b[0m \u001b[1;32mor\u001b[0m \u001b[0miterator\u001b[0m\u001b[1;33m:\u001b[0m\u001b[1;33m\u001b[0m\u001b[1;33m\u001b[0m\u001b[0m\n",
      "\u001b[1;32mc:\\users\\kaush\\onedrive\\desktop\\usc classes\\cs499\\usc-xprize-covid\\xprize\\lib\\site-packages\\pandas\\io\\parsers.py\u001b[0m in \u001b[0;36m__init__\u001b[1;34m(self, f, engine, **kwds)\u001b[0m\n\u001b[0;32m    934\u001b[0m             \u001b[0mself\u001b[0m\u001b[1;33m.\u001b[0m\u001b[0moptions\u001b[0m\u001b[1;33m[\u001b[0m\u001b[1;34m\"has_index_names\"\u001b[0m\u001b[1;33m]\u001b[0m \u001b[1;33m=\u001b[0m \u001b[0mkwds\u001b[0m\u001b[1;33m[\u001b[0m\u001b[1;34m\"has_index_names\"\u001b[0m\u001b[1;33m]\u001b[0m\u001b[1;33m\u001b[0m\u001b[1;33m\u001b[0m\u001b[0m\n\u001b[0;32m    935\u001b[0m \u001b[1;33m\u001b[0m\u001b[0m\n\u001b[1;32m--> 936\u001b[1;33m         \u001b[0mself\u001b[0m\u001b[1;33m.\u001b[0m\u001b[0m_make_engine\u001b[0m\u001b[1;33m(\u001b[0m\u001b[0mself\u001b[0m\u001b[1;33m.\u001b[0m\u001b[0mengine\u001b[0m\u001b[1;33m)\u001b[0m\u001b[1;33m\u001b[0m\u001b[1;33m\u001b[0m\u001b[0m\n\u001b[0m\u001b[0;32m    937\u001b[0m \u001b[1;33m\u001b[0m\u001b[0m\n\u001b[0;32m    938\u001b[0m     \u001b[1;32mdef\u001b[0m \u001b[0mclose\u001b[0m\u001b[1;33m(\u001b[0m\u001b[0mself\u001b[0m\u001b[1;33m)\u001b[0m\u001b[1;33m:\u001b[0m\u001b[1;33m\u001b[0m\u001b[1;33m\u001b[0m\u001b[0m\n",
      "\u001b[1;32mc:\\users\\kaush\\onedrive\\desktop\\usc classes\\cs499\\usc-xprize-covid\\xprize\\lib\\site-packages\\pandas\\io\\parsers.py\u001b[0m in \u001b[0;36m_make_engine\u001b[1;34m(self, engine)\u001b[0m\n\u001b[0;32m   1166\u001b[0m     \u001b[1;32mdef\u001b[0m \u001b[0m_make_engine\u001b[0m\u001b[1;33m(\u001b[0m\u001b[0mself\u001b[0m\u001b[1;33m,\u001b[0m \u001b[0mengine\u001b[0m\u001b[1;33m=\u001b[0m\u001b[1;34m\"c\"\u001b[0m\u001b[1;33m)\u001b[0m\u001b[1;33m:\u001b[0m\u001b[1;33m\u001b[0m\u001b[1;33m\u001b[0m\u001b[0m\n\u001b[0;32m   1167\u001b[0m         \u001b[1;32mif\u001b[0m \u001b[0mengine\u001b[0m \u001b[1;33m==\u001b[0m \u001b[1;34m\"c\"\u001b[0m\u001b[1;33m:\u001b[0m\u001b[1;33m\u001b[0m\u001b[1;33m\u001b[0m\u001b[0m\n\u001b[1;32m-> 1168\u001b[1;33m             \u001b[0mself\u001b[0m\u001b[1;33m.\u001b[0m\u001b[0m_engine\u001b[0m \u001b[1;33m=\u001b[0m \u001b[0mCParserWrapper\u001b[0m\u001b[1;33m(\u001b[0m\u001b[0mself\u001b[0m\u001b[1;33m.\u001b[0m\u001b[0mf\u001b[0m\u001b[1;33m,\u001b[0m \u001b[1;33m**\u001b[0m\u001b[0mself\u001b[0m\u001b[1;33m.\u001b[0m\u001b[0moptions\u001b[0m\u001b[1;33m)\u001b[0m\u001b[1;33m\u001b[0m\u001b[1;33m\u001b[0m\u001b[0m\n\u001b[0m\u001b[0;32m   1169\u001b[0m         \u001b[1;32melse\u001b[0m\u001b[1;33m:\u001b[0m\u001b[1;33m\u001b[0m\u001b[1;33m\u001b[0m\u001b[0m\n\u001b[0;32m   1170\u001b[0m             \u001b[1;32mif\u001b[0m \u001b[0mengine\u001b[0m \u001b[1;33m==\u001b[0m \u001b[1;34m\"python\"\u001b[0m\u001b[1;33m:\u001b[0m\u001b[1;33m\u001b[0m\u001b[1;33m\u001b[0m\u001b[0m\n",
      "\u001b[1;32mc:\\users\\kaush\\onedrive\\desktop\\usc classes\\cs499\\usc-xprize-covid\\xprize\\lib\\site-packages\\pandas\\io\\parsers.py\u001b[0m in \u001b[0;36m__init__\u001b[1;34m(self, src, **kwds)\u001b[0m\n\u001b[0;32m   1979\u001b[0m         \u001b[1;32mif\u001b[0m \u001b[0mkwds\u001b[0m\u001b[1;33m.\u001b[0m\u001b[0mget\u001b[0m\u001b[1;33m(\u001b[0m\u001b[1;34m\"compression\"\u001b[0m\u001b[1;33m)\u001b[0m \u001b[1;32mis\u001b[0m \u001b[1;32mNone\u001b[0m \u001b[1;32mand\u001b[0m \u001b[0mencoding\u001b[0m\u001b[1;33m:\u001b[0m\u001b[1;33m\u001b[0m\u001b[1;33m\u001b[0m\u001b[0m\n\u001b[0;32m   1980\u001b[0m             \u001b[1;32mif\u001b[0m \u001b[0misinstance\u001b[0m\u001b[1;33m(\u001b[0m\u001b[0msrc\u001b[0m\u001b[1;33m,\u001b[0m \u001b[0mstr\u001b[0m\u001b[1;33m)\u001b[0m\u001b[1;33m:\u001b[0m\u001b[1;33m\u001b[0m\u001b[1;33m\u001b[0m\u001b[0m\n\u001b[1;32m-> 1981\u001b[1;33m                 \u001b[0msrc\u001b[0m \u001b[1;33m=\u001b[0m \u001b[0mopen\u001b[0m\u001b[1;33m(\u001b[0m\u001b[0msrc\u001b[0m\u001b[1;33m,\u001b[0m \u001b[1;34m\"rb\"\u001b[0m\u001b[1;33m)\u001b[0m\u001b[1;33m\u001b[0m\u001b[1;33m\u001b[0m\u001b[0m\n\u001b[0m\u001b[0;32m   1982\u001b[0m                 \u001b[0mself\u001b[0m\u001b[1;33m.\u001b[0m\u001b[0mhandles\u001b[0m\u001b[1;33m.\u001b[0m\u001b[0mappend\u001b[0m\u001b[1;33m(\u001b[0m\u001b[0msrc\u001b[0m\u001b[1;33m)\u001b[0m\u001b[1;33m\u001b[0m\u001b[1;33m\u001b[0m\u001b[0m\n\u001b[0;32m   1983\u001b[0m \u001b[1;33m\u001b[0m\u001b[0m\n",
      "\u001b[1;31mFileNotFoundError\u001b[0m: [Errno 2] No such file or directory: 'predictions/val_1_month_future.csv'"
     ]
    }
   ],
   "source": [
    "%%time\n",
    "validate(start_date=\"2021-01-01\",\n",
    "         end_date=\"2021-01-31\",\n",
    "         ip_file=\"../../../validation/data/future_ip.csv\",\n",
    "         output_file=\"predictions/val_1_month_future.csv\")"
   ]
  },
  {
   "cell_type": "markdown",
   "metadata": {},
   "source": [
    "## 180 days, from a future date, all countries and regions\n",
    "- Prediction start date is 1 week from now. (i.e. assuming submission date is 1 week from now)  \n",
    "- Prediction end date is 6 months after start date.  \n",
    "- Prediction is requested for all available countries and regions.  \n",
    "- Intervention plan scenario: freeze last known intervention plans for each country and region.  \n",
    "\n",
    "As the number of cases is not known yet between today and start date, but the model relies on them, the model has to predict them in order to use them.  \n",
    "This test is the most demanding test. It should take less than 1 hour to generate the prediction file."
   ]
  },
  {
   "cell_type": "markdown",
   "metadata": {},
   "source": [
    "### Generate the scenario"
   ]
  },
  {
   "cell_type": "code",
   "execution_count": 45,
   "metadata": {},
   "outputs": [
    {
     "name": "stdout",
     "output_type": "stream",
     "text": [
      "Start date: 2020-12-25\n",
      "End date: 2021-06-23\n"
     ]
    }
   ],
   "source": [
    "from datetime import datetime, timedelta\n",
    "\n",
    "start_date = datetime.now() + timedelta(days=7)\n",
    "start_date_str = start_date.strftime('%Y-%m-%d')\n",
    "end_date = start_date + timedelta(days=180)\n",
    "end_date_str = end_date.strftime('%Y-%m-%d')\n",
    "print(f\"Start date: {start_date_str}\")\n",
    "print(f\"End date: {end_date_str}\")"
   ]
  },
  {
   "cell_type": "code",
   "execution_count": 46,
   "metadata": {},
   "outputs": [
    {
     "name": "stdout",
     "output_type": "stream",
     "text": [
      "Saved scenario to predictions/180_days_future_scenario.csv\n"
     ]
    }
   ],
   "source": [
    "from covid_xprize.validation.scenario_generator import get_raw_data, generate_scenario, NPI_COLUMNS\n",
    "DATA_FILE = 'data/OxCGRT_latest.csv'\n",
    "latest_df = get_raw_data(DATA_FILE, latest=True)\n",
    "scenario_df = generate_scenario(start_date_str, end_date_str, latest_df, countries=None, scenario=\"Freeze\")\n",
    "scenario_file = \"predictions/180_days_future_scenario.csv\"\n",
    "scenario_df.to_csv(scenario_file, index=False)\n",
    "print(f\"Saved scenario to {scenario_file}\")"
   ]
  },
  {
   "cell_type": "markdown",
   "metadata": {},
   "source": [
    "### Check it"
   ]
  },
  {
   "cell_type": "code",
   "execution_count": 47,
   "metadata": {},
   "outputs": [
    {
     "name": "stdout",
     "output_type": "stream",
     "text": [
      "Generating predictions from 2020-12-25 to 2021-06-23...\n",
      "Saved predictions to predictions/val_6_month_future.csv\n",
      "Done!\n",
      "Missing countries / regions: {'Kenya', 'Lithuania', 'Romania', 'Somalia', 'Brazil / Acre', 'Bosnia and Herzegovina', 'Uganda', 'Lesotho', 'Brazil / Mato Grosso do Sul', 'China', 'Chad', 'Algeria', 'Turkey', 'Canada / Alberta', 'Bermuda', 'Oman', 'Ukraine', 'Democratic Republic of Congo', 'Brazil / Parana', 'Georgia', 'Russia', 'Niger', 'Indonesia', 'Malta', 'Brazil / Santa Catarina', 'Brazil / Pernambuco', 'Andorra', 'Brazil / Paraiba', 'Brazil / Maranhao', 'Belize', 'Canada / New Brunswick', 'Mongolia', 'Belarus', 'Ethiopia', 'Kyrgyz Republic', 'Austria', 'Brazil / Bahia', 'Canada / Newfoundland and Labrador', 'Botswana', 'Panama', 'Israel', 'Taiwan', 'Italy', 'Pakistan', 'Tanzania', 'Bulgaria', 'Barbados', 'Puerto Rico', 'Moldova', 'Paraguay', 'United Kingdom / Northern Ireland', 'Djibouti', 'El Salvador', 'Brazil / Amazonas', 'Kosovo', 'Yemen', 'Congo', 'Cyprus', 'Iceland', 'Bahamas', 'Canada', 'Dominica', 'Fiji', 'Canada / Yukon', 'Brazil / Rio Grande do Sul', 'Croatia', 'Dominican Republic', 'Trinidad and Tobago', 'Brazil / Ceara', 'Papua New Guinea', 'Poland', 'Brazil', 'Guatemala', 'Mauritania', 'Afghanistan', 'Brazil / Amapa', 'Monaco', 'Myanmar', 'Ecuador', 'India', 'Nepal', 'Malaysia', 'Cuba', 'Portugal', 'Cape Verde', 'Brazil / Rio de Janeiro', 'Brunei', 'Libya', 'Slovak Republic', 'Zambia', 'Tunisia', 'Switzerland', 'Nigeria', 'Haiti', 'Cameroon', 'Palestine', 'Brazil / Roraima', 'Guyana', 'Thailand', 'United Kingdom', 'Iran', 'Sudan', 'Brazil / Piaui', 'Kazakhstan', 'Seychelles', 'South Korea', 'Eritrea', 'Peru', 'Burkina Faso', 'Mexico', 'Sweden', 'Jordan', 'Canada / Ontario', 'Burundi', 'Brazil / Mato Grosso', 'Zimbabwe', 'Saudi Arabia', 'Hungary', 'Gambia', 'Tonga', 'Nicaragua', 'Brazil / Alagoas', 'Philippines', 'Namibia', 'Brazil / Goias', 'Mauritius', \"Cote d'Ivoire\", 'Slovenia', 'Canada / Nova Scotia', 'Cambodia', 'Vietnam', 'San Marino', 'Canada / Northwest Territories', 'Solomon Islands', 'Brazil / Rondonia', 'Macao', 'Lebanon', 'Canada / Nunavut', 'Faeroe Islands', 'Azerbaijan', 'Canada / British Columbia', 'Brazil / Rio Grande do Norte', 'Central African Republic', 'Albania', 'United Arab Emirates', 'Denmark', 'Costa Rica', 'Angola', 'South Sudan', 'France', 'Timor-Leste', 'Venezuela', 'Ghana', 'Brazil / Sergipe', 'Bolivia', 'Greece', 'Mozambique', 'Brazil / Espirito Santo', 'United Kingdom / Scotland', 'Canada / Manitoba', 'Argentina', 'Japan', 'United Kingdom / England', 'Czech Republic', 'Honduras', 'Norway', 'Uruguay', 'Finland', 'Comoros', 'Ireland', 'Netherlands', 'Brazil / Tocantins', 'Uzbekistan', 'Rwanda', 'Hong Kong', 'Tajikistan', 'Canada / Saskatchewan', 'Qatar', 'Aruba', 'Togo', 'Spain', 'Colombia', 'Brazil / Minas Gerais', 'Liberia', 'Iraq', 'Latvia', 'Serbia', 'Bangladesh', 'Sri Lanka', 'South Africa', 'Australia', 'Syria', 'Vanuatu', 'Brazil / Sao Paulo', 'Bhutan', 'United States Virgin Islands', 'United Kingdom / Wales', 'Sierra Leone', 'Kuwait', 'Guam', 'Luxembourg', 'Singapore', 'Morocco', 'Canada / Prince Edward Island', 'Senegal', 'Egypt', 'Brazil / Para', 'Jamaica', 'Benin', 'Eswatini', 'Canada / Quebec', 'Bahrain', 'Guinea', 'Chile', 'Mali', 'Belgium', 'Brazil / Distrito Federal', 'Madagascar', 'Turkmenistan', 'New Zealand', 'Greenland', 'Suriname', 'Germany', 'Laos', 'Malawi', 'Estonia', 'Gabon'}\n",
      "Wall time: 9.57 s\n"
     ]
    }
   ],
   "source": [
    "%%time\n",
    "validate(start_date=start_date_str,\n",
    "         end_date=end_date_str,\n",
    "         ip_file=scenario_file,\n",
    "         output_file=\"predictions/val_6_month_future.csv\")"
   ]
  },
  {
   "cell_type": "code",
   "execution_count": null,
   "metadata": {},
   "outputs": [],
   "source": []
  }
 ],
 "metadata": {
  "kernelspec": {
   "display_name": "Python 3",
   "language": "python",
   "name": "python3"
  },
  "language_info": {
   "codemirror_mode": {
    "name": "ipython",
    "version": 3
   },
   "file_extension": ".py",
   "mimetype": "text/x-python",
   "name": "python",
   "nbconvert_exporter": "python",
   "pygments_lexer": "ipython3",
   "version": "3.8.3"
  },
  "pycharm": {
   "stem_cell": {
    "cell_type": "raw",
    "metadata": {
     "collapsed": false
    },
    "source": [
     "# Copyright 2020 (c) Cognizant Digital Business, Evolutionary AI. All rights reserved. Issued under the Apache 2.0 License."
    ]
   }
  }
 },
 "nbformat": 4,
 "nbformat_minor": 4
}
